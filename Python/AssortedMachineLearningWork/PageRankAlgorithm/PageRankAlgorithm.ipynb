{
 "cells": [
  {
   "cell_type": "markdown",
   "metadata": {},
   "source": [
    "# HW 5 - Page Rank\n",
    "__`MIDS w261: Machine Learning at Scale | UC Berkeley School of Information | Fall 2018`__\n",
    "\n",
    "In Weeks 8 and 9 you discussed key concepts related to graph based algorithms including SSSP.   \n",
    "In this final homework assignment you'll implement distributed PageRank using some data from Wikipedia.\n",
    "By the end of this homework you should be able to:  \n",
    "* ... __compare/contrast__ adjacency matrices and lists as representations of graphs for parallel computation.\n",
    "* ... __explain__ the goal of the PageRank algorithm using the concept of an infinite Random Walk.\n",
    "* ... __define__ a Markov chain including the conditions underwhich it will converge.\n",
    "* ... __identify__ what modifications must be made to the web graph inorder to leverage Markov Chains.\n",
    "* ... __implement__ distributed PageRank in Spark.\n",
    "\n",
    "__Please refer to the `README` for homework submission instructions and additional resources.__ "
   ]
  },
  {
   "cell_type": "markdown",
   "metadata": {},
   "source": [
    "# Notebook Set-Up\n",
    "Before starting your homework run the following cells to confirm your setup."
   ]
  },
  {
   "cell_type": "code",
   "execution_count": 1,
   "metadata": {},
   "outputs": [],
   "source": [
    "# imports\n",
    "import re\n",
    "import ast\n",
    "import time\n",
    "import numpy as np\n",
    "import pandas as pd\n",
    "import seaborn as sns\n",
    "import networkx as nx\n",
    "import matplotlib.pyplot as plt"
   ]
  },
  {
   "cell_type": "code",
   "execution_count": 2,
   "metadata": {},
   "outputs": [],
   "source": [
    "%reload_ext autoreload\n",
    "%autoreload 2"
   ]
  },
  {
   "cell_type": "code",
   "execution_count": 3,
   "metadata": {},
   "outputs": [],
   "source": [
    "# store path to notebook\n",
    "PWD = !pwd\n",
    "PWD = PWD[0]"
   ]
  },
  {
   "cell_type": "code",
   "execution_count": 4,
   "metadata": {},
   "outputs": [],
   "source": [
    "# start Spark Session\n",
    "from pyspark.sql import SparkSession\n",
    "app_name = \"hw5_notebook\"\n",
    "master = \"local[*]\"\n",
    "spark = SparkSession\\\n",
    "        .builder\\\n",
    "        .appName(app_name)\\\n",
    "        .master(master)\\\n",
    "        .getOrCreate()\n",
    "sc = spark.sparkContext"
   ]
  },
  {
   "cell_type": "markdown",
   "metadata": {},
   "source": [
    "__`REMINDER`__: If you are running this notebook on the course docker container, you can monitor the progress of your jobs using the Spark UI at: http://localhost:4040/jobs/"
   ]
  },
  {
   "cell_type": "markdown",
   "metadata": {},
   "source": [
    "# Question 1: Distributed Graph Processing\n",
    "Chapter 5 from Lin & Dyer gave you a high level introduction to graph algorithms and concernts that come up when trying to perform distributed computations over them. The questions below are designed to make sure you captured the key points from this reading and your async lectures. \n",
    "\n",
    "\n",
    "### Q1 Tasks:\n",
    "\n",
    "* __a) short response:__ Give an example of a dataset that would be appropriate to represent as a graph. What are the nodes/edges in this dataset? Is the graph you describe 'directed' or 'undirected'? What would the average \"in-degree\" of a node mean in the context of your example? \n",
    "\n",
    "* __b) short response:__ Other than their size/scale, what makes graphs uniquely challenging to work with in the map-reduce paradigm?\n",
    "\n",
    "* __c) short response:__ Briefly describe Dijkstra's algorithm (goal/approach). What specific design component makes this approach hard to parallelize?\n",
    "\n",
    "* __d) short response:__ How does parallel breadth-first-search get around the problem that you identified in part `c`? At what expense?"
   ]
  },
  {
   "cell_type": "markdown",
   "metadata": {},
   "source": [
    "### Q1 Student Answers:\n",
    "> __a)__ An example of a dataset is that is appropriate to represent as a graph is the LinkedIn network of all users and their connections to other users.  In this graph representation each node is a person and each vertex exists to represent whether or not two people are connected.  The vertices would be unweighted, since all connections have equal value and a weight of 1.  This graph can be undirected, as a connection between two nodes is assumed to be bi-directional, meaning that either node can contact the other if a connection exists. (Having a directed graph for this representation would mean 2 vertices that appear between any two nodes that have a connection, one going in each direction, which would appear redundant). The average \"in-degree\" of a node represents the number of vertices that point into the node.  In the case of LinkedIn, since all vertices represent bi-directional vertices, the average number of \"in-degree\" is then calculated by the average number of connections of all users of LinkedIn.  \n",
    "\n",
    "> __b)__ Other than size and scale, graphs are uniquely challening to work with in the map-reduce paradigm because the fundamental units of a graph, consisting of nodes and edges, carry information about each other, and whether or not an objective can be met in a map-reduce algorithm depends heavily on the data structure used to represent the graph.  An inefficient data structure used for representation can mean an extremely costly algorithm or a result that is simply wrong.  For instance, we saw in the async that a FIFO queue (first in first out) is insfficient to calculate the SSSP (single source shortest path) of a weighted graph from one origin to all other nodes, and a priority queue involving the sorting of frontier path lengths must be used.  Representing graph data as either adjacency matrices versus adjacency lists also presents challenges.  A graph that is too sparse, meaning the number of edges is much smaller than the number of possible edges, may be better represented as an adjacency list in order to save on memory storage.  However, certain graph ooperations are easier on adjacency matrices than on adjacency lists, such as the computations that require knowledge of incoming links to each node. \n",
    "\n",
    "> __c)__ Dijkstra's algorithm is a sequential way to calculate the SSSP, the distance of each node to the single origin node, in a weighted graph.  The algorithm works as follows - starting with the source node, we process the frontier nodes (the most adjacent nodes) by placing them in a priority queue, where the queue is ordered by distances of each frontier queue from the source.  In the next step, we move to the nearest node, calculate and record its distance to the original source, then create a new priority queue of frontier nodes that are adjacent to the second node.  We then move to the next node in the priority queue, and repeat this process until we have visited all of the nodes in the graph.  At each node, we record its distance from the origin node, and because we move in a path of least weight each time, we guarantee that all of our calculations are the SSSP for that node.  The problem with Dijkstra's algorithm is that it must be done completely sequentially, meaning that we cannot move in parallel paths away from the source node to calculate the SSSP.  The key to Dijkstra's algorithm is that the decision to move at each node depends on which adjacent node has the smaller weight for the vertex. If parallel paths of traversal are allowed on the same graph, and say there are two paths that can reach the same node from the origin node, one of these paths is guaranteed to not be the SSSP.  Because parallelization may not guarantee that we always traverse the path of least distance to every node, this algorithm cannot be parallelized easily.  \n",
    "\n",
    "> __d)__ Parallel breadth-first-search does allow us to find the SSSP using a parallelizable algorithm.  In this approach, we can processes the priority queue for all primary frontier nodes that are directly adjacent to the source in parallel, by creating a queue of their downstream adjacent nodes, and this process can be repeated for secondary frontier nodes, and tiertiary, and so on and so forth.  However, the cost of this algorithm comes from the situation when the reducer finds more than one path to the same node.  In the event that a shorter path is found to the same node, then we need to recompute the shortest path to each node downstream from this node, which could also be very costly. "
   ]
  },
  {
   "cell_type": "markdown",
   "metadata": {},
   "source": [
    "# Question 2: Representing Graphs \n",
    "\n",
    "In class you saw examples of adjacency matrix and adjacency list representations of graphs. These data structures were probably familiar from HW3, though we hadn't before talked about them in the context of graphs. In this question we'll discuss some of the tradeoffs associated with these representations. __`NOTE:`__ We'll use the graph from Figure 5.1 in Lin & Dyer as a toy example. For convenience in the code below we'll label the nodes `A`, `B`, `C`, `D`, and `E` instead of $n_1$, $n_2$, etc but otherwise you should be able to follow along & check our answers against those in the text.\n",
    "\n",
    "\n",
    "<img src=\"Lin-Dyer-graph-Q1.png\" width=\"70%\">\n",
    "\n",
    "### Q2 Tasks:\n",
    "\n",
    "* __a) short response:__ Relatively speaking, is the graph you described in Figure 5.1 in Lin & Dyer \"sparse\" or \"dense\"?  Explain how sparsity/density impacts the adjacency matrix and adjacency list representations of a graph.\n",
    "\n",
    "* __b) short response:__ Run the provided code to create and plot our toy graph. Is this graph directed or undirected? Explain how the adjacency matrices for directed graphs will differ from those of undirected graphs.\n",
    "\n",
    "* __c) code:__ Fill in the missing code to complete the function `get_adj_matr()`.\n",
    "\n",
    "* __d) code:__ Fill in the missing code to complete the function `get_adj_list()`.\n"
   ]
  },
  {
   "cell_type": "markdown",
   "metadata": {},
   "source": [
    "### Q2 Student Answers:\n",
    "> __a)__ Lin and Dyer describes a sparse graph as one where the number of actual edges is far less than the number of possible edges.  In this graph, the number of possible edges is 20, not counting self-edges, but the nubmer of actual edges is 9.  Since the number of actual edges is less than half of the number of possible edges, I would categorize this graph as sparse.  The sparsity/density inpacts the decision to represent a graph using either an adjacency matrix or adjacency list for computation.  For a graph of n notes, the adjacency matrix has a $O(n^2)$ space requirement, so it is often unwise to represent a very sparse graph as an adjacency matrix since the matrix will hold more 0 values than non-zero values and is thus not a good use of space. On the otherhand, for a very dense graph, the adjacency matrix and adjacency list may take up similar space. In addition, choosing to use an adjacency matrix versus adjacency list dependends on the type of graph operations in the algorithm objective, as an adjacency matrix is better for computation that requiring knowledge of incoming links while an adjacency list is only well-suited for operations involving knowledge of outgoing links. \n",
    "\n",
    "> __b)__ The graph that is created by the code below is directed.  The adjacency matrix for a directed graph only shows a non-zero value in position (i,j) if there is a directed edge going from node i to node j.  If this edge is unidirectional, meaning that there is no edge going from node j to node i, a 0 will be placed in the position (j,i) on the same adjacency matrix. In the adjacency matrix of a directed graph, every non-zero entry corresponds to one and only one existing edge.  \n",
    "\n",
    "> For an undirected graph, there are two ways to represent the graph using an adjacency matrix. The first is to reach each edge as if there exists two edges, one going from node i to node j and the other going from node j to node i.  This creates an adjacency matrix that is symmetric across the diagonal where the non-zero value in position (i,j) and in position (j,i) corresponds to the same undirected edge going from node i to node j. \n",
    "\n",
    "> An undirected graph can also be represented as an upper triangular matrix, where only values above the main diagnonal could be non-zero while values below the main diagonal are all zeros.  In this representation, each non-zero value corresponds to one and only one undirected edge.  However, we only insert entries at position (i, j) for the existance of an edge between node i and node j, but only if i<j.  This would result in an upper triangular matrix.  "
   ]
  },
  {
   "cell_type": "code",
   "execution_count": 5,
   "metadata": {},
   "outputs": [],
   "source": [
    "# part a - a graph is just a list of nodes and edges (RUN THIS CELL AS IS)\n",
    "TOY_GRAPH = {'nodes':['A', 'B', 'C', 'D', 'E'],\n",
    "             'edges':[('A', 'B'), ('A', 'D'), ('B', 'C'), ('B', 'E'), ('C', 'D'), \n",
    "                      ('D', 'E'), ('E', 'A'),('E', 'B'), ('E', 'C')]}"
   ]
  },
  {
   "cell_type": "code",
   "execution_count": 6,
   "metadata": {},
   "outputs": [
    {
     "data": {
      "image/png": "[encoded data removed]",
      "text/plain": [
       "<Figure size 432x288 with 1 Axes>"
      ]
     },
     "metadata": {},
     "output_type": "display_data"
    }
   ],
   "source": [
    "# part a - simple visualization of our toy graph using nx (RUN THIS CELL AS IS)\n",
    "G = nx.DiGraph()\n",
    "G.add_nodes_from(TOY_GRAPH['nodes'])\n",
    "G.add_edges_from(TOY_GRAPH['edges'])\n",
    "nx.draw(G, pos=nx.circular_layout(G), with_labels=True, alpha = 0.5)"
   ]
  },
  {
   "cell_type": "code",
   "execution_count": 7,
   "metadata": {},
   "outputs": [],
   "source": [
    "# part c - adjacency matrix function\n",
    "def get_adj_matr(graph):\n",
    "    \"\"\"\n",
    "    Function to create an adjacency matrix representation of a graph.\n",
    "    arg:\n",
    "        graph - (dict) of 'nodes' : [], 'edges' : []\n",
    "    returns:\n",
    "        pd.DataFrame with entry i,j representing an edge from node i to node j\n",
    "    \"\"\"\n",
    "    n = len(graph['nodes'])\n",
    "    adj_matr = pd.DataFrame(0, columns = graph['nodes'], index = graph['nodes'])\n",
    "    ############### YOUR CODE HERE ##################\n",
    "    for pair in graph['edges']:\n",
    "        adj_matr.loc[pair[0],:][pair[1]] = 1\n",
    "\n",
    "    ############### (END) YOUR CODE #################\n",
    "    return adj_matr"
   ]
  },
  {
   "cell_type": "code",
   "execution_count": 8,
   "metadata": {},
   "outputs": [
    {
     "name": "stdout",
     "output_type": "stream",
     "text": [
      "   A  B  C  D  E\n",
      "A  0  1  0  1  0\n",
      "B  0  0  1  0  1\n",
      "C  0  0  0  1  0\n",
      "D  0  0  0  0  1\n",
      "E  1  1  1  0  0\n"
     ]
    }
   ],
   "source": [
    "# part c - take a look (RUN THIS CELL AS IS)\n",
    "TOY_ADJ_MATR = get_adj_matr(TOY_GRAPH)\n",
    "print(TOY_ADJ_MATR)"
   ]
  },
  {
   "cell_type": "code",
   "execution_count": 9,
   "metadata": {},
   "outputs": [],
   "source": [
    "# part d - adjacency list function\n",
    "def get_adj_list(graph):\n",
    "    \"\"\"\n",
    "    Function to create an adjacency list representation of a graph.\n",
    "    arg:\n",
    "        graph - (dict) of 'nodes' : [], 'edges' : []\n",
    "    returns:\n",
    "        dictionary of the form {node : [list of edges]}\n",
    "    \"\"\"\n",
    "    adj_list = {node: [] for node in graph['nodes']}\n",
    "    ############### YOUR CODE HERE ##################\n",
    "    for pair in graph['edges']:\n",
    "        adj_list[pair[0]].append(pair[1])\n",
    "    \n",
    "    ############### (END) YOUR CODE #################\n",
    "    return adj_list"
   ]
  },
  {
   "cell_type": "code",
   "execution_count": 10,
   "metadata": {},
   "outputs": [
    {
     "name": "stdout",
     "output_type": "stream",
     "text": [
      "{'A': ['B', 'D'], 'B': ['C', 'E'], 'C': ['D'], 'D': ['E'], 'E': ['A', 'B', 'C']}\n"
     ]
    }
   ],
   "source": [
    "# part d - take a look (RUN THIS CELL AS IS)\n",
    "TOY_ADJ_LIST = get_adj_list(TOY_GRAPH)\n",
    "print(TOY_ADJ_LIST)"
   ]
  },
  {
   "cell_type": "markdown",
   "metadata": {},
   "source": [
    "# Question 3: Markov Chains and Random Walks\n",
    "\n",
    "As you know from your readings and in class discussions, the PageRank algorithm takes advantage of the machinery of Markov Chains to compute the relative importance of a webpage using the hyperlink structure of the web (we'll refer to this as the 'web-graph'). A Markov Chain is a discrete-time stochastic process. The stochastic matrix has a principal left eigen vector corresponding to its largest eigen value which is one. A Markov chain's probability distribution over its states may be viewed as a probability vector. This steady state probability for a state is the PageRank of the corresponding webpage. In this question we'll briefly discuss a few concepts that are key to understanding the math behind PageRank. \n",
    "\n",
    "### Q3 Tasks:\n",
    "\n",
    "* __a) short response:__ It is common to explain PageRank using the analogy of a web surfer who clicks on links at random ad infinitum. In the context of this hypothetical infinite random walk, what does the PageRank metric measure/represent?\n",
    "\n",
    "* __b) short response:__ What is the \"Markov Property\" and what does it mean in the context of PageRank?\n",
    "\n",
    "* __c) short response:__ A Markov chain consists of $n$ states plus an $n\\times n$ transition probability matrix. In the context of PageRank & a random walk over the WebGraph what are the $n$ states? what implications does this have about the size of the transition matrix?\n",
    "\n",
    "* __d) code + short response:__ What is a \"right stochastic matrix\"? Fill in the code below to compute the transition matrix for the toy graph from question 2. [__`HINT:`__ _It should be right stochastic. Using numpy this calculation can be done in one line of code._]\n",
    "\n",
    "* __e) code + short response:__ To compute the stable state distribution (i.e. PageRank) of a \"nice\" graph we can apply the power iteration method - repeatedly multiplying the transition matrix by itself, until the values no longer change. Apply this strategy to your transition matrix from `part d` to find the PageRank for each of the pages in your toy graph. Your code should print the results of each iteration. How many iterations does it take to converge? Which node is most 'central' (i.e. highest ranked)? Does this match your intuition? \n",
    "    * __`NOTE 1:`__ _this is a naive approach, we'll unpack what it means to be \"nice\" in the next question_.\n",
    "    * __`NOTE 2:`__ _no need to implement a stopping criteria, visual inspection should suffice_.\n",
    "    \n",
    "    \n",
    "    \n",
    "### The Power Method Algorithm\n",
    "```\n",
    "initial approximation - random unit vector x0\n",
    "# xInit = np.random.rand(transition_matrix.shape[1])\n",
    "x1=Ax0\n",
    "x2=AAx0=A2x0\n",
    "x3=AAAx0=A3x0\n",
    "...\n",
    "until converges\n",
    "```\n",
    "For large powers of k, we will obrain a good approximation of the dominant eigenvector  \n",
    "http://mlwiki.org/index.php/Power_Iteration"
   ]
  },
  {
   "cell_type": "markdown",
   "metadata": {},
   "source": [
    "### Q3 Student Answers:\n",
    "> __a)__  If we consider the webpages as nodes and the links between pages as edges, then the Page Rank is the probability distribution over nodes the graph, where each node is associated with a probability that represents the likelihood of traversing to that node.  In the context of a surfer who takes infinite steps, randomly traveling to each page through a link, the page rank is then a measure of how frequently a page would be encontered by this infinite surfer. \n",
    "\n",
    "> __b)__ The Markov property states that the conditional probability distribution of future states depends only on the present state and not on the sequence of events that led to the present state.  In the page rank algorithm, the present state is the page that the surfer is currently on and where the surfer goes next depends only on the links of the present page, but not the links on the previous page or the pages that the surfer has already viewed.  Hence, if we assume that the surfer has no ulterior motives but to travel from page to page using exising links available, then we can invoke the Markov property which states that the transitional probability to future states is memoryless of states before the current state. The Markov property is necessary to allow us to represent the page rank algorithm as recursive, which is what allows us to use the Power Method Algorithm to calculate the final steady state probabilities. \n",
    "\n",
    "> __c)__ In the page rank algorithm, the n states are the n nodes of the graph, where each node represents a page.  As stated in part (b), the path to the next node depends only on the current state, which is the current page that the surfer is viewing.  The transition matrix is the representation of the mechanism needed to travel from each node to every other node. The (i,j) entry in the transition matrix gives the probability of being in state j given that we are currently in state i, the probability of traveling from page i to page j.  Given that there are n states, which represents n nodes, the transition matrix must have dimensions nxn, where each entry corresponds to a possible edge.  Only actual edges in the graph however correspond to non-zero entries in the transition matrix. \n",
    "\n",
    "> __d)__ A right-stochastic matrix is a real, postive, square matrix where each row must sum to 1.  In order to create a right stocastic matrix from our adjacency matrix in part 2 to create the transition matrix, we must divide values in each row by the sum of values in that row.\n",
    "\n",
    "> __e)__ According to the cell I ran below, it takes 6 iterations for convergence to take place.  After 6 iterations, the state vector is steady and remains unchanged. It appears that node E is the most highly ranked, with freqency of 0.316. This did not match my intuition, as I expected nodes with high in-degree to be highly ranked.  According to the graph, it looks like nodes B, D and E and the same number of in-degree, so I would have expected the 3 of them to share similar frequency values.  However, it was surprising to find that node E's page rank is twice that of node B.  This leads me to wonder if the intuition regarding in-degree breaks down when the number of nodes and edges is low. "
   ]
  },
  {
   "cell_type": "code",
   "execution_count": 11,
   "metadata": {},
   "outputs": [
    {
     "data": {
      "text/html": [
       "<div>\n",
       "<style scoped>\n",
       "    .dataframe tbody tr th:only-of-type {\n",
       "        vertical-align: middle;\n",
       "    }\n",
       "\n",
       "    .dataframe tbody tr th {\n",
       "        vertical-align: top;\n",
       "    }\n",
       "\n",
       "    .dataframe thead th {\n",
       "        text-align: right;\n",
       "    }\n",
       "</style>\n",
       "<table border=\"1\" class=\"dataframe\">\n",
       "  <thead>\n",
       "    <tr style=\"text-align: right;\">\n",
       "      <th></th>\n",
       "      <th>A</th>\n",
       "      <th>B</th>\n",
       "      <th>C</th>\n",
       "      <th>D</th>\n",
       "      <th>E</th>\n",
       "    </tr>\n",
       "  </thead>\n",
       "  <tbody>\n",
       "    <tr>\n",
       "      <th>A</th>\n",
       "      <td>0</td>\n",
       "      <td>1</td>\n",
       "      <td>0</td>\n",
       "      <td>1</td>\n",
       "      <td>0</td>\n",
       "    </tr>\n",
       "    <tr>\n",
       "      <th>B</th>\n",
       "      <td>0</td>\n",
       "      <td>0</td>\n",
       "      <td>1</td>\n",
       "      <td>0</td>\n",
       "      <td>1</td>\n",
       "    </tr>\n",
       "    <tr>\n",
       "      <th>C</th>\n",
       "      <td>0</td>\n",
       "      <td>0</td>\n",
       "      <td>0</td>\n",
       "      <td>1</td>\n",
       "      <td>0</td>\n",
       "    </tr>\n",
       "    <tr>\n",
       "      <th>D</th>\n",
       "      <td>0</td>\n",
       "      <td>0</td>\n",
       "      <td>0</td>\n",
       "      <td>0</td>\n",
       "      <td>1</td>\n",
       "    </tr>\n",
       "    <tr>\n",
       "      <th>E</th>\n",
       "      <td>1</td>\n",
       "      <td>1</td>\n",
       "      <td>1</td>\n",
       "      <td>0</td>\n",
       "      <td>0</td>\n",
       "    </tr>\n",
       "  </tbody>\n",
       "</table>\n",
       "</div>"
      ],
      "text/plain": [
       "   A  B  C  D  E\n",
       "A  0  1  0  1  0\n",
       "B  0  0  1  0  1\n",
       "C  0  0  0  1  0\n",
       "D  0  0  0  0  1\n",
       "E  1  1  1  0  0"
      ]
     },
     "execution_count": 11,
     "metadata": {},
     "output_type": "execute_result"
    }
   ],
   "source": [
    "# part d - recall what the adjacency matrix looked like (RUN THIS CELL AS IS)\n",
    "TOY_ADJ_MATR"
   ]
  },
  {
   "cell_type": "code",
   "execution_count": 12,
   "metadata": {},
   "outputs": [
    {
     "name": "stdout",
     "output_type": "stream",
     "text": [
      "[[0.         0.5        0.         0.5        0.        ]\n",
      " [0.         0.         0.5        0.         0.5       ]\n",
      " [0.         0.         0.         1.         0.        ]\n",
      " [0.         0.         0.         0.         1.        ]\n",
      " [0.33333333 0.33333333 0.33333333 0.         0.        ]]\n"
     ]
    }
   ],
   "source": [
    "# part d - use TOY_ADJ_MATR to create a right stochastic transition matrix for this graph\n",
    "################ YOUR CODE HERE #################\n",
    "transition_matrix = (TOY_ADJ_MATR.values.T/TOY_ADJ_MATR.values.sum(axis=1)).T # replace with your code\n",
    "\n",
    "################ (END) YOUR CODE #################\n",
    "print(transition_matrix)"
   ]
  },
  {
   "cell_type": "code",
   "execution_count": 13,
   "metadata": {},
   "outputs": [],
   "source": [
    "# part e - compute the steady state using the transition matrix \n",
    "def power_iteration(xInit, tMatrix, nIter, verbose = True):\n",
    "    \"\"\"\n",
    "    Function to perform the specified number of power iteration steps to \n",
    "    compute the steady state probability distribution for the given\n",
    "    transition matrix.\n",
    "    \n",
    "    Args:\n",
    "        xInit     - (n x 1 array) representing inial state\n",
    "        tMatrix  - (n x n array) transition probabilities\n",
    "        nIter     - (int) number of iterations\n",
    "    Returns:\n",
    "        state_vector - (n x 1 array) representing probability \n",
    "                        distribution over states after nSteps.\n",
    "    \n",
    "    NOTE: if the 'verbose' flag is on, your function should print the step\n",
    "    number and the current matrix at each iteration.\n",
    "    \"\"\"\n",
    "    state_vector = None\n",
    "    ################ YOUR CODE HERE #################\n",
    "    for ix in range(nIter):    \n",
    "        if verbose:\n",
    "            print(f'Step {ix}:\\n {tMatrix[0]}')\n",
    "        tMatrix = tMatrix @ tMatrix #<-- preferred form of: tMatrix = tMatrix.dot(tMatrix)\n",
    "    state_vector = tMatrix[0]\n",
    "    ################ (END) YOUR CODE #################\n",
    "    return state_vector"
   ]
  },
  {
   "cell_type": "code",
   "execution_count": 14,
   "metadata": {},
   "outputs": [],
   "source": [
    "def eigenvalue(A, v):\n",
    "    Av = A.dot(v)\n",
    "    return v.dot(Av)\n",
    "\n",
    "def power_iteration1(A):\n",
    "    n, d = A.shape\n",
    "\n",
    "    v = np.ones(d) / np.sqrt(d)\n",
    "    ev = eigenvalue(A, v)\n",
    "    count = 0\n",
    "    \n",
    "    while True:\n",
    "        count += 1\n",
    "        Av = A.dot(v)\n",
    "        v_new = Av / np.linalg.norm(Av)\n",
    "\n",
    "        ev_new = eigenvalue(A, v_new)\n",
    "        \n",
    "        if np.abs(ev - ev_new) < 0.00001:\n",
    "            break\n",
    "        \n",
    "        v = v_new\n",
    "        ev = ev_new\n",
    "\n",
    "    return ev_new, v_new, count"
   ]
  },
  {
   "cell_type": "code",
   "execution_count": null,
   "metadata": {},
   "outputs": [],
   "source": [
    "power_iteration1(np.transpose(transition_matrix))"
   ]
  },
  {
   "cell_type": "code",
   "execution_count": null,
   "metadata": {},
   "outputs": [],
   "source": [
    "#!/usr/bin/python\n",
    "\n",
    "import numpy as np\n",
    "\n",
    "def power_iteration2(A, num_simulations):\n",
    "    # Ideally choose a random vector\n",
    "    # To decrease the chance that our vector\n",
    "    # Is orthogonal to the eigenvector\n",
    "    # b_k = np.array([1.0, 0, 0, 0, 0])\n",
    "    b_k = np.random.rand(A.shape[1])\n",
    "\n",
    "    for ix in range(num_simulations):\n",
    "        # calculate the matrix-by-vector product Ab\n",
    "        b_k1 = np.dot(np.transpose(A), b_k)\n",
    "\n",
    "        # calculate the norm\n",
    "        b_k1_norm = np.linalg.norm(b_k1)\n",
    "        # re normalize the vector\n",
    "        b_k = b_k1 / b_k1_norm\n",
    "\n",
    "\n",
    "        #print(f'Step {ix}:\\n {b_k}')\n",
    "    return b_k\n",
    "\n",
    "power_iteration2(transition_matrix, 100)"
   ]
  },
  {
   "cell_type": "code",
   "execution_count": null,
   "metadata": {},
   "outputs": [],
   "source": [
    "#transition_matrix\n",
    "#[[0, 0.5, 0, 0.5, 0],[0, 0, 0.5, 0, 0.5],[0, 0, 0, 1, 0],[0, 0, 0, 0, 1],[0.33333333, 0.33333333, 0.33333333, 0, 0]]"
   ]
  },
  {
   "cell_type": "code",
   "execution_count": 15,
   "metadata": {},
   "outputs": [
    {
     "name": "stdout",
     "output_type": "stream",
     "text": [
      "[1. 0. 0. 0. 0.]\n",
      "Step 0:\n",
      " [0.  0.5 0.  0.5 0. ]\n",
      "Step 1:\n",
      " [0.   0.   0.25 0.   0.75]\n",
      "Step 2:\n",
      " [0.    0.125 0.125 0.375 0.375]\n",
      "Step 3:\n",
      " [0.11805556 0.14930556 0.18576389 0.19791667 0.34895833]\n",
      "Step 4:\n",
      " [0.10386392 0.15674096 0.18360648 0.23753577 0.31825288]\n",
      "Step 5:\n",
      " [0.10526656 0.15789725 0.18421194 0.23683994 0.3157843 ]\n",
      "Step 6:\n",
      " [0.10526316 0.15789474 0.18421053 0.23684211 0.31578947]\n",
      "Step 7:\n",
      " [0.10526316 0.15789474 0.18421053 0.23684211 0.31578947]\n",
      "Step 8:\n",
      " [0.10526316 0.15789474 0.18421053 0.23684211 0.31578947]\n",
      "Step 9:\n",
      " [0.10526316 0.15789474 0.18421053 0.23684211 0.31578947]\n"
     ]
    }
   ],
   "source": [
    "# part e - run 10 steps of the power_iteration (RUN THIS CELL AS IS)\n",
    "xInit = np.array([1.0, 0, 0, 0, 0]) # note that this initial state will not affect the convergence states\n",
    "#xInit = np.random.rand(transition_matrix.shape[1])\n",
    "#xInit = np.ones(transition_matrix.shape[1]) / np.sqrt(transition_matrix.shape[1])\n",
    "#xInit = np.ones(transition_matrix.shape[1]) / (transition_matrix.shape[1])\n",
    "print(xInit)\n",
    "states = power_iteration(xInit, transition_matrix, 10, True)\n",
    "#print(states)\n",
    "#print(\"---\")\n",
    "#print(np.transpose(states))\n",
    "#print(\"---\")\n",
    "#print(states[0])\n",
    "#print(\"---\")\n",
    "#print(\"state vector\")\n",
    "#np.transpose(states) @ states[0]"
   ]
  },
  {
   "cell_type": "code",
   "execution_count": 23,
   "metadata": {},
   "outputs": [],
   "source": [
    "#Using the Rayleigh quotient, the dominant eigenvalue is:\n",
    "def rayeigh_q(A,x):\n",
    "    return np.dot(A.dot(states[0]),x)/np.dot(x,x)"
   ]
  },
  {
   "cell_type": "code",
   "execution_count": 35,
   "metadata": {},
   "outputs": [
    {
     "data": {
      "text/plain": [
       "array([[0.        , 0.5       , 0.        , 0.5       , 0.        ],\n",
       "       [0.        , 0.        , 0.5       , 0.        , 0.5       ],\n",
       "       [0.        , 0.        , 0.        , 1.        , 0.        ],\n",
       "       [0.        , 0.        , 0.        , 0.        , 1.        ],\n",
       "       [0.33333333, 0.33333333, 0.33333333, 0.        , 0.        ]])"
      ]
     },
     "execution_count": 35,
     "metadata": {},
     "output_type": "execute_result"
    }
   ],
   "source": [
    "eigen_V = power_iteration(xInit, transition_matrix, 10, False)[0]\n",
    "rayeigh_q(transition_matrix,eigen_V)"
   ]
  },
  {
   "cell_type": "code",
   "execution_count": null,
   "metadata": {},
   "outputs": [],
   "source": [
    "eigen_V2 = power_iteration2(transition_matrix, 100)\n",
    "print(rayeigh_q(transition_matrix,eigen_V2))\n",
    "print(eigenvalue(transition_matrix,eigen_V2))"
   ]
  },
  {
   "cell_type": "code",
   "execution_count": null,
   "metadata": {},
   "outputs": [],
   "source": [
    "eigen_V1 = power_iteration1(transition_matrix)[1]\n",
    "print(rayeigh_q(transition_matrix,eigen_V1))\n",
    "print(eigenvalue(transition_matrix,eigen_V1))"
   ]
  },
  {
   "cell_type": "markdown",
   "metadata": {},
   "source": [
    "Another good resource: http://ergodic.ugr.es/cphys/LECCIONES/FORTRAN/power_method.pdf"
   ]
  },
  {
   "cell_type": "code",
   "execution_count": null,
   "metadata": {},
   "outputs": [],
   "source": [
    "sum(np.array([0.10526316, 0.15789474, 0.18421053, 0.23684211, 0.31578947]))"
   ]
  },
  {
   "cell_type": "code",
   "execution_count": null,
   "metadata": {},
   "outputs": [],
   "source": [
    "sum(np.array([0.22153951, 0.33230927, 0.38769414, 0.4984639 , 0.66461853]))"
   ]
  },
  {
   "cell_type": "code",
   "execution_count": null,
   "metadata": {},
   "outputs": [],
   "source": [
    "np.array([0.22153951, 0.33230927, 0.38769414, 0.4984639 , 0.66461853])/2.10462535"
   ]
  },
  {
   "cell_type": "markdown",
   "metadata": {},
   "source": []
  },
  {
   "cell_type": "markdown",
   "metadata": {},
   "source": [
    "__`Expected Output for part e:`__  \n",
    ">Steady State Probabilities:\n",
    "```\n",
    "Node A: 0.10526316  \n",
    "Node B: 0.15789474  \n",
    "Node C: 0.18421053  \n",
    "Node D: 0.23684211  \n",
    "Node E: 0.31578947  \n",
    "```\n",
    "\n",
    "<img src=\"power-method.png\"/>"
   ]
  },
  {
   "cell_type": "markdown",
   "metadata": {},
   "source": [
    "# Question 4: Page Rank Theory\n",
    "\n",
    "Seems easy right? Unfortunately applying this power iteration method directly to the web-graph actually runs into a few problems. In this question we'll tease apart what we meant by a 'nice graph' in Question 3 and highlight key modifications we'll have to make to the web-graph when performing PageRank. To start, we'll look at what goes wrong when we try to repeat our strategy from question 3 on a 'not nice' graph.\n",
    "\n",
    "__`Additional References:`__ http://pi.math.cornell.edu/~mec/Winter2009/RalucaRemus/Lecture3/lecture3.html\n",
    "\n",
    "### Q4 Tasks:\n",
    "\n",
    "* __a) code + short response:__ Run the provided code to create and plot our 'not nice' graph. Fill in the missing code to compute its transition matrix & run the power iteration method from question 3. What is wrong with what you see? [__`HINT:`__ _there is a visible underlying reason that it isn't converging... try adding up the probabilities in the state vector after each iteration._]\n",
    "\n",
    "* __b) short response:__  Identify the dangling node in this 'not nice' graph and explain how this node causes the problem you described in 'a'. How could we modify the transition matrix after each iteration to prevent this problem?\n",
    "\n",
    "* __c) short response:__ What does it mean for a graph to be irreducible? Is the webgraph naturally irreducible? Explain your reasoning briefly.\n",
    "\n",
    "* __d) short response:__ What does it mean for a graph to be aperiodic? Is the webgraph naturally aperiodic? Explain your reasoning briefly.\n",
    "\n",
    "* __e) short response:__ What modification to the webgraph does PageRank make in order to guarantee aperiodicity and irreducibility? Interpret this modification in terms of our random surfer analogy.\n"
   ]
  },
  {
   "cell_type": "markdown",
   "metadata": {},
   "source": [
    "### Q4 Student Answers:\n",
    "> __a)__ After the first iteration, we see only nan values for the state calculations after each step.  Convergence is never reached and we are unable to find steady state probabilities.  The underlying reason is that division by 0 results in nan values for the transition matrix calculation, since the row of the adjacency matrix that corresponds to the node E has all 0 values.  E is a dangling node and has no path to any other node, and thus results in a row with all 0s.  \n",
    "\n",
    "> __b)__ The dangling node is E and it causes the problem described in (a) because it causes the Adjacency Matrix to have a row of 0.  When we calculate the right-stochastic transition matrix, there is no non-zero sum for the row that corresponds to transitions away from node E.  This results in nan values in the transition matrix, when we attempt to divide by 0, which will continue to spread to state calculations in the power method, leading to the inability for convergence. \n",
    "\n",
    "> One way to adjust the transition matrix for the dangling node is to allow the teleportation to any other node on the graph, with equal probability.  We can do this by replacing all the 0s in the row corresponding to E with 1s in the adjacency matrix, which would result in a row of all 1/5 values in the right stochastic matrix.  In doing so, we are allowing for traversals away from E to other nodes on the graph. \n",
    "\n",
    "> __c)__ For a graph to be irreducible, there must be a path from every node to every other node. Here, I assume that webgraph refers to the graph representation of pages in the world wide web.  The webgraph is not naturally irreducible if we define natural to be traversal using page links alone, that is without the ability to use the back button or the browser bar. If we only consider page links as vertices, then dangling nodes are inevitable since there are definitely pages which have no links on them and therefore no path to other nodes.  The existence of a dangling node means that there is no path from that node to any other node, and automatically violates the definition of irreducbility.  Therefore the webgraph is no irreducible.  \n",
    "\n",
    "> __d)__ The webgraph is not naturally aperiodic. To be aperiodic, cycle lengths cannot have a common denominator greater than 1.  The existence of a cycle of length 1 in a graph along with the existence of cycle of any other length will automatically satisify the definition of aperiodicity, since the GCD of all cycle length will be 1.  There are definitely cycle lengths of 1 in the webgraph as there are pages with links to themselves.  \n",
    "\n",
    "> __e)__ The modification to webgraph that guarantees aperiodicity and irreducbility is the teleportation matrix, which allows the traversal from any node to any other node.  In the surfer analogy, teleportation is the equivalent to using the search bar.  Even if the surfer is stuck on a page that represents a dangling node with no clickable links, he/she is able to traverse to any other page by typing a url into the url bar.  The ability to teleport away from a dangling node allows the webgraph to be irreducible and does not prevent the webgraph from being aperiodic, which it naturally was prior to the modification.\n"
   ]
  },
  {
   "cell_type": "code",
   "execution_count": 16,
   "metadata": {},
   "outputs": [],
   "source": [
    "# part a - run this code to create a second toy graph (RUN THIS CELL AS IS)\n",
    "TOY2_GRAPH = {'nodes':['A', 'B', 'C', 'D', 'E'],\n",
    "              'edges':[('A', 'B'), ('A', 'C'), ('A', 'D'), ('B', 'D'), \n",
    "                       ('B', 'E'), ('C', 'A'), ('C', 'E'), ('D', 'B')]}"
   ]
  },
  {
   "cell_type": "code",
   "execution_count": 17,
   "metadata": {},
   "outputs": [
    {
     "data": {
      "image/png": "[encoded data removed]",
      "text/plain": [
       "<Figure size 432x288 with 1 Axes>"
      ]
     },
     "metadata": {},
     "output_type": "display_data"
    }
   ],
   "source": [
    "# part a - simple visualization of our test graph using nx (RUN THIS CELL AS IS)\n",
    "G = nx.DiGraph()\n",
    "G.add_nodes_from(TOY2_GRAPH['nodes'])\n",
    "G.add_edges_from(TOY2_GRAPH['edges'])\n",
    "nx.draw(G, pos=nx.circular_layout(G), with_labels=True, alpha = 0.5)"
   ]
  },
  {
   "cell_type": "code",
   "execution_count": 18,
   "metadata": {},
   "outputs": [
    {
     "name": "stdout",
     "output_type": "stream",
     "text": [
      "   A  B  C  D  E\n",
      "A  0  1  1  1  0\n",
      "B  0  0  0  1  1\n",
      "C  1  0  0  0  1\n",
      "D  0  1  0  0  0\n",
      "E  0  0  0  0  0\n",
      "[[0.         0.33333333 0.33333333 0.33333333 0.        ]\n",
      " [0.         0.         0.         0.5        0.5       ]\n",
      " [0.5        0.         0.         0.         0.5       ]\n",
      " [0.         1.         0.         0.         0.        ]\n",
      " [       nan        nan        nan        nan        nan]]\n",
      "Step 0:\n",
      " [0.         0.33333333 0.33333333 0.33333333 0.        ]\n",
      "Step 1:\n",
      " [nan nan nan nan nan]\n",
      "Step 2:\n",
      " [nan nan nan nan nan]\n",
      "Step 3:\n",
      " [nan nan nan nan nan]\n",
      "Step 4:\n",
      " [nan nan nan nan nan]\n",
      "Step 5:\n",
      " [nan nan nan nan nan]\n",
      "Step 6:\n",
      " [nan nan nan nan nan]\n",
      "Step 7:\n",
      " [nan nan nan nan nan]\n",
      "Step 8:\n",
      " [nan nan nan nan nan]\n",
      "Step 9:\n",
      " [nan nan nan nan nan]\n"
     ]
    },
    {
     "name": "stderr",
     "output_type": "stream",
     "text": [
      "/opt/anaconda/lib/python3.6/site-packages/ipykernel_launcher.py:6: RuntimeWarning: invalid value encountered in true_divide\n",
      "  \n"
     ]
    }
   ],
   "source": [
    "# part a - run 10 steps of the power iteration method here\n",
    "# HINT: feel free to use the functions get_adj_matr() and power_iteration() you wrote above\n",
    "################ YOUR CODE HERE #################\n",
    "TOY_ADJ_MATR2= get_adj_matr(TOY2_GRAPH)\n",
    "print(TOY_ADJ_MATR2)\n",
    "transition_matrix2 = (TOY_ADJ_MATR2.values.T/TOY_ADJ_MATR2.values.sum(axis=1)).T\n",
    "print(transition_matrix2)\n",
    "states = power_iteration(xInit, transition_matrix2, 10, True)\n",
    "################ (END) YOUR CODE #################"
   ]
  },
  {
   "cell_type": "code",
   "execution_count": 19,
   "metadata": {},
   "outputs": [
    {
     "name": "stdout",
     "output_type": "stream",
     "text": [
      "[[0.         0.33333333 0.33333333 0.33333333 0.        ]\n",
      " [0.         0.         0.         0.5        0.5       ]\n",
      " [0.5        0.         0.         0.         0.5       ]\n",
      " [0.         1.         0.         0.         0.        ]\n",
      " [0.2        0.2        0.2        0.2        0.2       ]]\n",
      "Step 0:\n",
      " [0.         0.33333333 0.33333333 0.33333333 0.        ]\n",
      "Step 1:\n",
      " [0.16666667 0.33333333 0.         0.16666667 0.33333333]\n",
      "Step 2:\n",
      " [0.10777778 0.35777778 0.06888889 0.21333333 0.25222222]\n",
      "Step 3:\n",
      " [0.09313738 0.33675714 0.08246281 0.23848405 0.24915862]\n",
      "Step 4:\n",
      " [0.09187882 0.32705008 0.08171045 0.24459614 0.25476452]\n",
      "Step 5:\n",
      " [0.09183683 0.32653179 0.08163283 0.24489728 0.25510127]\n",
      "Step 6:\n",
      " [0.09183673 0.32653061 0.08163265 0.24489796 0.25510204]\n",
      "Step 7:\n",
      " [0.09183673 0.32653061 0.08163265 0.24489796 0.25510204]\n",
      "Step 8:\n",
      " [0.09183673 0.32653061 0.08163265 0.24489796 0.25510204]\n",
      "Step 9:\n",
      " [0.09183673 0.32653061 0.08163265 0.24489796 0.25510204]\n"
     ]
    }
   ],
   "source": [
    "# part a MODIFIED - run 10 steps of the power iteration method here\n",
    "# HINT: feel free to use the functions get_adj_matr() and power_iteration() you wrote above\n",
    "################ YOUR CODE HERE #################\n",
    "TOY_ADJ_MATR2_mod= get_adj_matr(TOY2_GRAPH)\n",
    "\n",
    "#modify by inserting a 1 for all values in row E\n",
    "TOY_ADJ_MATR2_mod.loc['E',:] = 1\n",
    "\n",
    "\n",
    "transition_matrix2_mod = (TOY_ADJ_MATR2_mod.values.T/TOY_ADJ_MATR2_mod.values.sum(axis=1)).T\n",
    "print(transition_matrix2_mod)\n",
    "states = power_iteration(xInit, transition_matrix2_mod, 10, True)\n",
    "################ (END) YOUR CODE #################"
   ]
  },
  {
   "cell_type": "markdown",
   "metadata": {},
   "source": [
    "# About the Data\n",
    "The main dataset for this data consists of a subset of a 500GB dataset released by AWS in 2009. The data includes the source and metadata for all of the Wikimedia wikis. You can read more here: \n",
    "> https://aws.amazon.com/blogs/aws/new-public-data-set-wikipedia-xml-data. \n",
    "\n",
    "As in previous homeworks we'll be using a 2GB subset of this data, which is available to you in this dropbox folder: \n",
    "> https://www.dropbox.com/sh/2c0k5adwz36lkcw/AAAAKsjQfF9uHfv-X9mCqr9wa?dl=0. \n",
    "\n",
    "Use the cells below to download the wikipedia data and a test file for use in developing your PageRank implementation(note that we'll use the 'indexed out' version of the graph) and to take a look at the files."
   ]
  },
  {
   "cell_type": "code",
   "execution_count": 5,
   "metadata": {},
   "outputs": [],
   "source": [
    "# create a data directory (RUN THIS CELL AS IS)\n",
    "!mkdir data"
   ]
  },
  {
   "cell_type": "code",
   "execution_count": 23,
   "metadata": {},
   "outputs": [],
   "source": [
    "# download the test data set (RUN THIS CELL AS IS)\n",
    "!wget -q -O data/test_graph.txt https://www.dropbox.com/sh/2c0k5adwz36lkcw/AACf_33TeM7rKfEhjEoNmMCaa/PageRank-test_indexed.txt?dl=0"
   ]
  },
  {
   "cell_type": "code",
   "execution_count": 97,
   "metadata": {},
   "outputs": [
    {
     "name": "stdout",
     "output_type": "stream",
     "text": [
      "2\t{'3': 1}\n",
      "3\t{'2': 1}\n",
      "4\t{'1': 1, '2': 1}\n",
      "5\t{'4': 1, '2': 1, '6': 1}\n",
      "6\t{'2': 1, '5': 1}\n",
      "7\t{'2': 1, '5': 1}\n",
      "8\t{'2': 1, '5': 1}\n",
      "9\t{'2': 1, '5': 1}\n",
      "10\t{'5': 1}\n",
      "11\t{'5': 1}\n"
     ]
    }
   ],
   "source": [
    "# take a look\n",
    "!cat data/test_graph.txt"
   ]
  },
  {
   "cell_type": "markdown",
   "metadata": {},
   "source": [
    "### PLEASE NOTE, SECOND TEST FILE INCLUDED: \n",
    "In Slack, James provided a second test file.  I also include it in my work below.  The second test file has repeat adjacency nodes, which are better for testing.  However, the results displayed in 8 only match the original file"
   ]
  },
  {
   "cell_type": "code",
   "execution_count": 98,
   "metadata": {},
   "outputs": [
    {
     "name": "stdout",
     "output_type": "stream",
     "text": [
      "2\t{'3': 1}\n",
      "3\t{'2': 2}\n",
      "4\t{'1': 1, '2': 1}\n",
      "5\t{'4': 3, '2': 1, '6': 1}\n",
      "6\t{'2': 1, '5': 2}\n",
      "7\t{'2': 1, '5': 1}\n",
      "8\t{'2': 1, '5': 1}\n",
      "9\t{'2': 1, '5': 1}\n",
      "10\t{'5': 1}\n",
      "11\t{'5': 2}\n"
     ]
    }
   ],
   "source": [
    "# take a look\n",
    "!cat data/test_graph_2.txt"
   ]
  },
  {
   "cell_type": "code",
   "execution_count": 8,
   "metadata": {},
   "outputs": [
    {
     "name": "stdout",
     "output_type": "stream",
     "text": [
      "--2019-07-15 21:17:23--  https://www.dropbox.com/sh/2c0k5adwz36lkcw/AAAD7I_6kQlJtDpXZPhCfVH-a/wikipedia/all-pages-indexed-out.txt?dl=0\n",
      "Resolving www.dropbox.com... 162.125.4.1, 2620:100:6019:1:ffff:ffff:a27d:401\n",
      "Connecting to www.dropbox.com|162.125.4.1|:443... connected.\n",
      "HTTP request sent, awaiting response... 301 Moved Permanently\n",
      "Location: /sh/raw/2c0k5adwz36lkcw/AAAD7I_6kQlJtDpXZPhCfVH-a/wikipedia/all-pages-indexed-out.txt [following]\n",
      "--2019-07-15 21:17:23--  https://www.dropbox.com/sh/raw/2c0k5adwz36lkcw/AAAD7I_6kQlJtDpXZPhCfVH-a/wikipedia/all-pages-indexed-out.txt\n",
      "Reusing existing connection to www.dropbox.com:443.\n",
      "HTTP request sent, awaiting response... 302 Found\n",
      "Location: https://ucbc6b8911d3d19667b512d5e739.dl.dropboxusercontent.com/cd/0/inline/AkxfyeeT9OY7azWkXIS-_6LaRD7WxNrAzp1BQ8cRUDCtpwYFiyzia3Wn998WlAGDeAcv66JBCFGJiUuqy6dHZLcy-2JY0lskDtrbMhXszPDe9w/file# [following]\n",
      "--2019-07-15 21:17:23--  https://ucbc6b8911d3d19667b512d5e739.dl.dropboxusercontent.com/cd/0/inline/AkxfyeeT9OY7azWkXIS-_6LaRD7WxNrAzp1BQ8cRUDCtpwYFiyzia3Wn998WlAGDeAcv66JBCFGJiUuqy6dHZLcy-2JY0lskDtrbMhXszPDe9w/file\n",
      "Resolving ucbc6b8911d3d19667b512d5e739.dl.dropboxusercontent.com... 162.125.4.6, 2620:100:6019:6:ffff:ffff:a27d:406\n",
      "Connecting to ucbc6b8911d3d19667b512d5e739.dl.dropboxusercontent.com|162.125.4.6|:443... connected.\n",
      "HTTP request sent, awaiting response... 200 OK\n",
      "Length: 2090459616 (1.9G) [text/plain]\n",
      "Saving to: `data/wiki_graph.txt'\n",
      "\n",
      "100%[====================================>] 2,090,459,616 4.98M/s   in 5m 21s  \n",
      "\n",
      "2019-07-15 21:22:45 (6.20 MB/s) - `data/wiki_graph.txt' saved [2090459616/2090459616]\n",
      "\n"
     ]
    }
   ],
   "source": [
    "# download the main data set - this may take a little time (RUN THIS CELL AS IS)\n",
    "!wget -O data/wiki_graph.txt https://www.dropbox.com/sh/2c0k5adwz36lkcw/AAAD7I_6kQlJtDpXZPhCfVH-a/wikipedia/all-pages-indexed-out.txt?dl=0"
   ]
  },
  {
   "cell_type": "code",
   "execution_count": 42,
   "metadata": {},
   "outputs": [
    {
     "name": "stdout",
     "output_type": "stream",
     "text": [
      "73\t{'14417532': 1}\n",
      "299\t{'4214575': 1}\n",
      "2552\t{'15043376': 1, '13430968': 1, '13451035': 1, '7263397': 1, '13001625': 1, '13443575': 1, '13451269': 1, '13432316': 1, '11623371': 1, '15028971': 1, '13425865': 1, '15042703': 1, '5051368': 1, '9854998': 2, '13442976': 1, '13315025': 1, '2992307': 1, '1054486': 1, '1322325': 1, '13450983': 1}\n",
      "2570\t{'983991': 1}\n",
      "2616\t{'9045350': 1}\n",
      "2711\t{'752887': 1}\n",
      "2818\t{'3534183': 1}\n",
      "2847\t{'3797918': 1}\n",
      "2892\t{'2893': 1}\n",
      "2921\t{'5158607': 1, '6007184': 1, '14773825': 1, '11777840': 2, '9285165': 1, '6420484': 1, '14670682': 1, '7316613': 1, '7125893': 1, '14965920': 1, '14229952': 1, '9447742': 2, '1425342': 1, '11390944': 2, '5141': 1, '14928135': 2, '13636570': 3, '14687433': 1, '15105458': 1, '11656072': 1, '6420027': 1, '10898196': 1, '6416278': 1, '11497740': 2}\n"
     ]
    }
   ],
   "source": [
    "# take a look (RUN THIS CELL AS IS)\n",
    "!head data/wiki_graph.txt"
   ]
  },
  {
   "cell_type": "code",
   "execution_count": 43,
   "metadata": {},
   "outputs": [],
   "source": [
    "# download the indexes (RUN THIS CELL AS IS)\n",
    "!wget -q -O data/indices.txt https://www.dropbox.com/sh/2c0k5adwz36lkcw/AADSYhyRXbgebRDy6ALl6O1ca/wikipedia/indices.txt?dl=0"
   ]
  },
  {
   "cell_type": "code",
   "execution_count": 44,
   "metadata": {},
   "outputs": [
    {
     "name": "stdout",
     "output_type": "stream",
     "text": [
      "! $var = &quot;&quot;\t1\t1\t0\n",
      "! (CONFIG.SYS directive)\t2\t1\t1\n",
      "! (album)\t3\t12\t17\n",
      "! (disambiguation)\t4\t1\t20\n",
      "! -attention-\t5\t1\t0\n",
      "! Time Zone\t6\t1\t0\n",
      "!! (chess)\t7\t0\t1\n",
      "!! (disambiguation)\t8\t3\t0\n",
      "!!! (Chk Chk Chk)\t9\t1\t0\n",
      "!!! (album)\t10\t5\t15\n"
     ]
    }
   ],
   "source": [
    "# take a look (RUN THIS CELL AS IS)\n",
    "# You will need this file for the extra credit questions.\n",
    "!head data/indices.txt"
   ]
  },
  {
   "cell_type": "code",
   "execution_count": 5,
   "metadata": {},
   "outputs": [],
   "source": [
    "# load the data into Spark RDDs for convenience of use later (RUN THIS CELL AS IS)\n",
    "testRDD = sc.textFile('data/test_graph.txt')\n",
    "testRDD2 = sc.textFile('data/test_graph_2.txt') #second test file included in all questions\n",
    "indexRDD = sc.textFile('data/indices.txt')\n",
    "wikiRDD = sc.textFile('data/wiki_graph.txt')"
   ]
  },
  {
   "cell_type": "markdown",
   "metadata": {},
   "source": [
    "# Question 5: EDA part 1 (number of nodes)\n",
    "\n",
    "As usual, before we dive in to the main analysis, we'll peform some exploratory data anlysis to understand our dataset. Please use the test graph that you downloaded to test all your code before running the full dataset.\n",
    "\n",
    "### Q5 Tasks:\n",
    "* __a) short response:__ In what format is the raw data? What does the first value represent? What does the second part of each line represent? [__`HINT:`__ _no need to go digging here, just visually inspect the outputs of the head commands that we ran after loading the data above._]\n",
    "\n",
    "* __b) code + short response:__ Run the provided bash command to count the number of records in the raw dataset. Explain why this is _not_ the same as the number of total nodes in the graph.\n",
    "\n",
    "* __c) code:__ In the space provided below write a Spark job to count the _total number_ of nodes in this graph. \n",
    "\n",
    "* __d) short response:__ How many dangling nodes are there in this wikipedia graph? [__`HINT:`__ _you should not need any code to answer this question._]"
   ]
  },
  {
   "cell_type": "markdown",
   "metadata": {},
   "source": [
    "### Q5 Student Answers:\n",
    "> __a)__ Each row in the raw data has a key which uniquely identifies a wikipedia page and a corresponding value which is a dictionary.  The dictionary keys are unique identifiers for other wikipedia pages that are directly linked to the wikipedia page represented by the key.  In other words, each row key represents a node and the dictionary contains the adjacency list of that node as keys.  Each dictionary key also corresponds to a number, which represent the number of times a link to the adjacent node appears on the page that is represented by the row key.  \n",
    "\n",
    "> __b)__ There are 5781290 records in the data set.  This is not the same as the number of nodes in the graph because this might only represent the number of nodes that have links to other pages.  This number may not be counting dangling nodes that do not have links to other pages and thus do not appear as row keys.  In order to find all nodes, we need to find all distinct keys in the union of all row keys and dictionary keys. \n",
    "\n",
    "> __d)__ The total number of nodes is 15192277.  The number of dangling nodes, assume that the raw data keys contain all non-dangling nodes, is the difference between the total number of nodes and the total number of raw data keys.  The number of dangling nodes is 15192277 - 5781290 = 9410987"
   ]
  },
  {
   "cell_type": "code",
   "execution_count": 24,
   "metadata": {},
   "outputs": [
    {
     "name": "stdout",
     "output_type": "stream",
     "text": [
      "5781290 data/wiki_graph.txt\n"
     ]
    }
   ],
   "source": [
    "# part b - count the number of records in the raw data (RUN THIS CELL AS IS)\n",
    "!wc -l data/wiki_graph.txt"
   ]
  },
  {
   "cell_type": "code",
   "execution_count": 100,
   "metadata": {},
   "outputs": [],
   "source": [
    "#total number of nodes is the number of distinct keys in he union of all row keys and all dictionary keys\n",
    "#mapper - emits key value pairs that are ids and count of 1.  the id list is the union of the row key and all dictionary keys\n",
    "#use following helper function to parse raw data from file:\n",
    "\n",
    "def parse_row(row):\n",
    "    \"\"\"takes each row of the raw data rdd\n",
    "    returns key value pairs for every dictionary key in the value dictionary\n",
    "    plus one key-value pair for the rdd key\"\"\"\n",
    "    key, dictionary_text = row.split('\\t')\n",
    "    dictionary = ast.literal_eval(dictionary_text)\n",
    "    \n",
    "    #append each row key to the list of ids, where each id represents a nod\n",
    "    id_list = list(dictionary.keys())\n",
    "    id_list.append(key)\n",
    "    \n",
    "    return [(id, 1) for id in id_list]\n",
    "\n",
    "# part c - write your Spark job here (compute total number of nodes)\n",
    "def count_nodes(dataRDD):\n",
    "    \"\"\"\n",
    "    Spark job to count the total number of nodes.\n",
    "    Returns: integer count \n",
    "    \"\"\"    \n",
    "    ############## YOUR CODE HERE ###############\n",
    "\n",
    "    totalCount = dataRDD.flatMap(parse_row) \\\n",
    "             .reduceByKey(lambda x,y : x+y) \\\n",
    "             .count()\n",
    "    \n",
    "    ############## (END) YOUR CODE ###############   \n",
    "    return totalCount"
   ]
  },
  {
   "cell_type": "code",
   "execution_count": 101,
   "metadata": {},
   "outputs": [
    {
     "name": "stdout",
     "output_type": "stream",
     "text": [
      "... completed job in 0.3646984100341797 seconds.\n",
      "Total Nodes: 11\n"
     ]
    }
   ],
   "source": [
    "# part c - run your counting job on the test file (RUN THIS CELL AS IS)\n",
    "start = time.time()\n",
    "tot = count_nodes(testRDD)\n",
    "print(f'... completed job in {time.time() - start} seconds.')\n",
    "print(f'Total Nodes: {tot}')"
   ]
  },
  {
   "cell_type": "code",
   "execution_count": 78,
   "metadata": {},
   "outputs": [
    {
     "name": "stdout",
     "output_type": "stream",
     "text": [
      "... completed job in 1683.37100315094 seconds.\n",
      "Total Nodes: 15192277\n"
     ]
    }
   ],
   "source": [
    "# part c - run your counting job on the full file (RUN THIS CELL AS IS)\n",
    "start = time.time()\n",
    "tot = count_nodes(wikiRDD)\n",
    "print(f'... completed job in {time.time() - start} seconds.')\n",
    "print(f'Total Nodes: {tot}')"
   ]
  },
  {
   "cell_type": "markdown",
   "metadata": {},
   "source": [
    "# Question 6 - EDA part 2 (out-degree distribution)\n",
    "\n",
    "As you've seen in previous homeworks the computational complexity of an implementation depends not only on the number of records in the original dataset but also on the number of records we create and shuffle in our intermediate representation of the data. The number of intermediate records required to update PageRank is related to the number of edges in the graph. In this question you'll compute the average number of hyperlinks on each page in this data and visualize a distribution for these counts (the out-degree of the nodes). \n",
    "\n",
    "### Q6 Tasks:\n",
    "* __a) code:__ In the space provided below write a Spark job to stream over the data and compute all of the following information:\n",
    " * count the out-degree of each non-dangling node and return the names of the top 10 pages with the most hyperlinks\n",
    " * find the average out-degree for all non-dangling nodes in the graph\n",
    " * take a 1000 point sample of these out-degree counts and plot a histogram of the result. \n",
    " \n",
    " \n",
    "* __b) short response:__ In the context of the PageRank algorithm, how is information about a node's out degree used?\n",
    "\n",
    "* __c) short response:__ What does it mean if a node's out-degree is 0? In PageRank how will we handle these nodes differently than others?\n",
    " \n",
    "__`NOTE:`__ Please observe scalability best practices in the design of your code & comment your work clearly. You will be graded on both the clarity and the design."
   ]
  },
  {
   "cell_type": "markdown",
   "metadata": {},
   "source": [
    "### Q6 Student Answers:\n",
    "\n",
    "> __b)__ For a graph with |G| number of nodes, the page rank at node n is given by: $P(n)=\\alpha\\left(\\dfrac{1}{|G|}\\right)+(1-\\alpha)\\sum_{m\\in L(n)}\\dfrac{P(m)}{C(m)}$, where C(m) is the outdegree of every node m that links to node n. The first term in the equation describes the contribution from random jumps which depends on $\\alpha$, the teleportation factor, and the inverse of the number of nodes.  The out-degree of previous nodes is important for the second term, which also depends on the dampening factor $(1-\\alpha)$.  The second term describes how the page rank on node n actually depends on contributions from $L(n)$, or the set of all nodes that link to node n.  Each of the nodes m that link to node n contributes the amount $P(m)/C(m)$, or the page rank at node m divided by the out-degree C(m), to the page rank of node n.  \n",
    "\n",
    "> __c)__ If a node's out-degree is 0, then the node has no outgoing vertices to other nodes in the graph, which makes it a dangling node.  In the page rank calculation, we can think of finding the page rank for each node as the steady state mass accumulation at each node.  The \"loss\" of mass from each node would contribute to the outbound nodes that emanante from each node.  However, since nodes with out-degree of 0 do not have outbound nodes, one way to handle their mass lost would be to redistribute it evenly across all of the nodes in the graph.  "
   ]
  },
  {
   "cell_type": "code",
   "execution_count": 102,
   "metadata": {},
   "outputs": [],
   "source": [
    "# part a - write your Spark job here (compute average in-degree, etc)\n",
    "# helper func\n",
    "def parse(line):\n",
    "    node, edges = line.split('\\t')\n",
    "    return (node, ast.literal_eval(edges))\n",
    "\n",
    "def count_degree(dataRDD, n):\n",
    "    \"\"\"\n",
    "    Function to analyze out-degree of nodes in a a graph.\n",
    "    Returns: \n",
    "        top  - (list of 10 tuples) nodes with most edges\n",
    "        avgDegree - (float) average out-degree for non-dangling nodes\n",
    "        sampledCounts - (list of integers) out-degree for n randomly sampled non-dangling nodes\n",
    "    \"\"\"\n",
    "    \n",
    "    \n",
    "    ############## YOUR CODE HERE ###############\n",
    "    results = dataRDD.map(parse)\\\n",
    "                     .map(lambda x: (x[0], sum(list(x[1].values()))))\\\n",
    "                     .reduceByKey(lambda x,y : x+y)\\\n",
    "                     .cache()\n",
    "    top = results.takeOrdered(10, key=lambda x: -x[1])\n",
    "    avgDegree = results.map(lambda x: x[1]).sum()/results.count()\n",
    "    sampledCounts = results.sample(withReplacement = False, fraction=n/results.count()).map(lambda x: x[1]).collect()\n",
    "    \n",
    "    ############## (END) YOUR CODE ###############\n",
    "    \n",
    "    return top, avgDegree, sampledCounts"
   ]
  },
  {
   "cell_type": "code",
   "execution_count": 107,
   "metadata": {},
   "outputs": [
    {
     "name": "stdout",
     "output_type": "stream",
     "text": [
      "... completed job in 0.7993922233581543 seconds\n",
      "Average out-degree:  1.7\n",
      "Top 10 nodes (by out-degree:)\n",
      " [('5', 3), ('4', 2), ('8', 2), ('9', 2), ('6', 2), ('7', 2), ('10', 1), ('2', 1), ('3', 1), ('11', 1)]\n"
     ]
    },
    {
     "data": {
      "image/png": "[encoded data removed]",
      "text/plain": [
       "<Figure size 432x288 with 1 Axes>"
      ]
     },
     "metadata": {},
     "output_type": "display_data"
    }
   ],
   "source": [
    "# part a - run your job on the test file (RUN THIS CELL AS IS)\n",
    "start = time.time()\n",
    "test_results = count_degree(testRDD,10)\n",
    "print(f\"... completed job in {time.time() - start} seconds\")\n",
    "print(\"Average out-degree: \", test_results[1])\n",
    "print(\"Top 10 nodes (by out-degree:)\\n\", test_results[0])\n",
    "plt.hist(test_results[2], bins=10)\n",
    "plt.title(\"Distribution of Out-Degree\")\n",
    "plt.show()"
   ]
  },
  {
   "cell_type": "markdown",
   "metadata": {},
   "source": [
    "**The following shows results for second test file**"
   ]
  },
  {
   "cell_type": "code",
   "execution_count": 109,
   "metadata": {},
   "outputs": [
    {
     "name": "stdout",
     "output_type": "stream",
     "text": [
      "... completed job in 0.8473052978515625 seconds\n",
      "Average out-degree:  1.7\n",
      "Top 10 nodes (by out-degree:)\n",
      " [('5', 3), ('4', 2), ('8', 2), ('9', 2), ('6', 2), ('7', 2), ('10', 1), ('2', 1), ('3', 1), ('11', 1)]\n"
     ]
    },
    {
     "data": {
      "image/png": "[encoded data removed]",
      "text/plain": [
       "<Figure size 432x288 with 1 Axes>"
      ]
     },
     "metadata": {},
     "output_type": "display_data"
    }
   ],
   "source": [
    "# part a - run your job on the second test file (RUN THIS CELL AS IS)\n",
    "start = time.time()\n",
    "test_results2 = count_degree(testRDD2,10)\n",
    "print(f\"... completed job in {time.time() - start} seconds\")\n",
    "print(\"Average out-degree: \", test_results[1])\n",
    "print(\"Top 10 nodes (by out-degree:)\\n\", test_results[0])\n",
    "plt.hist(test_results2[2], bins=10)\n",
    "plt.title(\"Distribution of Out-Degree\")\n",
    "plt.show()"
   ]
  },
  {
   "cell_type": "markdown",
   "metadata": {},
   "source": [
    "**Job on Full File**"
   ]
  },
  {
   "cell_type": "code",
   "execution_count": 100,
   "metadata": {},
   "outputs": [
    {
     "name": "stdout",
     "output_type": "stream",
     "text": [
      "... completed job in 1063.6398584842682 seconds\n",
      "Average out-degree:  32.04181575392343\n",
      "Top 10 nodes (by out-degree:)\n",
      " [('7804599', 9347), ('7858931', 8910), ('11185362', 8837), ('7705822', 8142), ('5760310', 7649), ('7865920', 7608), ('7819767', 7278), ('7883280', 7231), ('13035895', 7126), ('7880980', 6904)]\n"
     ]
    },
    {
     "data": {
      "image/png": "[encoded data removed]",
      "text/plain": [
       "<Figure size 432x288 with 1 Axes>"
      ]
     },
     "metadata": {},
     "output_type": "display_data"
    }
   ],
   "source": [
    "# part a - run your job on the full file (RUN THIS CELL AS IS)\n",
    "start = time.time()\n",
    "full_results = count_degree(wikiRDD,1000)\n",
    "print(f\"... completed job in {time.time() - start} seconds\")\n",
    "print(\"Average out-degree: \", full_results[1])\n",
    "print(\"Top 10 nodes (by out-degree:)\\n\", full_results[0])\n",
    "plt.hist(full_results[2], bins=50)\n",
    "plt.title(\"Distribution of Out-Degree\")\n",
    "plt.show()"
   ]
  },
  {
   "cell_type": "markdown",
   "metadata": {},
   "source": [
    "# Question 7 - PageRank part 1 (Initialize the Graph)\n",
    "\n",
    "One of the challenges of performing distributed graph computation is that you must pass the entire graph structure through each iteration of your algorithm. As usual, we seek to design our computation so that as much work as possible can be done using the contents of a single record. In the case of PageRank, we'll need each record to include a node, its list of neighbors and its (current) rank. In this question you'll initialize the graph by creating a record for each dangling node and by setting the initial rank to 1/N for all nodes. \n",
    "\n",
    "__`NOTE:`__ Your solution should _not_ hard code $N$.\n",
    "\n",
    "### Q7 Tasks:\n",
    "* __a) short response:__ What is $N$? Use the analogy of the infinite random web-surfer to explain why we'll initialize each node's rank to $\\frac{1}{N}$. (i.e. what is the probabilistic interpretation of this choice?)\n",
    "\n",
    "* __b) short response:__ Will it be more efficient to compute $N$ before initializing records for each dangling node or after? Explain your reasoning.\n",
    "\n",
    "* __c) code:__ Fill in the missing code below to create a Spark job that:\n",
    "  * parses each input record\n",
    "  * creates a new record for any dangling nodes and sets it list of neighbors to be an empty set\n",
    "  * initializes a rank of 1/N for each node\n",
    "  * returns a pair RDD with records in the format specified by the docstring\n",
    "\n",
    "\n",
    "* __d) code:__ Run the provided code to confirm that your job in `part a` has a record for each node and that your should records match the format specified in the docstring and the count should match what you computed in question 5. [__`TIP:`__ _you might want to take a moment to write out what the expected output should be fore the test graph, this will help you know your code works as expected_]\n",
    " \n",
    "__`NOTE:`__ Please observe scalability best practices in the design of your code & comment your work clearly. You will be graded on both the clarity and the design."
   ]
  },
  {
   "cell_type": "markdown",
   "metadata": {},
   "source": [
    "### Q7 Student Answers:\n",
    "\n",
    "> __a)__ N is the number of nodes in the graph.  In the analogy of the random surfer, say on the web, the surfer has the ability to \"teleport\" or jump to any webpage node by typing a url into the url search bar.  Initializing each node rank at 1/N then has the probablistic interpretation that the surfer has the same chance of starting on any of the nodes in the graph at the start of their journey. \n",
    "\n",
    "> __b)__ It is more efficient to compute N after initializing records for each of the dangling nodes.  N comes from finding the total number of nodes, but our intial data only contains rows for non-dangling nodes and their adjacency list, which means that we do not have rows for dangling nodes initially.  In order to find N using a Map Reduce job, we have to create rows in the RDD for the dangling nodes, then calculate the total number of rows to find N.  By creating rows for the dangling nodes, we are already in the process of initialzing records for them, so it is more efficient to compute N afterwards. We can first initialize rows for dangling records with a score of 0, then update the rows with 1/N once we have a row count. If we try to compute N before initializing records for dangling nodes, we would need two map reduce jobs, one that counts N and then a second one for row initialization, versus 1 map reduce job if we initialize the rows first."
   ]
  },
  {
   "cell_type": "code",
   "execution_count": 6,
   "metadata": {},
   "outputs": [],
   "source": [
    "# part c - job to initialize the graph (RUN THIS CELL AS IS)\n",
    "\n",
    "############## YOUR CODE HERE ###############\n",
    "# write any helper functions here\n",
    "\n",
    "def parse_row_reformat_output(row):\n",
    "    \"\"\"takes each row of the raw data rdd\n",
    "    returns the following output (node, (score, adjacency list)) for every node ID, \n",
    "    \n",
    "    This will be done for the row key node IDs and all of the dictionary key node IDs\n",
    "    The initial score outputted by function will be 0 \n",
    "        (and later updated to 1/N using a spark function, once we have all rows)\n",
    "    \n",
    "    For row keys, the output adjacency list is the dictionary keys\n",
    "    For dictionary key, the output adjacency list will be empty from the initial mapper\n",
    "        (their full adjacency list will be later accumulated in the reducer)\n",
    "        \n",
    "    The format of the adjacency lists from this function will be a string, \n",
    "        where node IDs are comma separated, \n",
    "        and nodes with multiple links are repeated\n",
    "        (format is found to be more efficient than dictionary)\n",
    "    \"\"\"\n",
    "    row_key, dictionary_text = row.split('\\t')\n",
    "    dictionary = ast.literal_eval(dictionary_text)\n",
    "    \n",
    "    #initialize string to contain adjacency list for row key\n",
    "    row_key_adj_list = ''\n",
    "    \n",
    "    for node_id, value in dictionary.items():\n",
    "        #each node id will be added to row key adjacency list\n",
    "        #node id repeat count in the adjacency list is dicted by their dictionary value\n",
    "        #node ids are separated by comma\n",
    "        row_key_adj_list += (node_id+\",\")*value\n",
    "        \n",
    "        #initialize rdd row for dictionary node IDs (some might be dangling)\n",
    "        #initial adjacency lists for dictionary node IDs are empty\n",
    "        yield (node_id, (0, \"\"))\n",
    "    \n",
    "    #lastly, initialize row for row key node ID, with non-empty adjacency list\n",
    "    yield (row_key, (0, row_key_adj_list[:-1]))\n",
    "\n",
    "\n",
    "def initGraph(dataRDD):\n",
    "    \"\"\"\n",
    "    Spark job to read in the raw data and initialize an \n",
    "    adjacency list representation with a record for each\n",
    "    node (including dangling nodes).\n",
    "    \n",
    "    Returns: \n",
    "        graphRDD -  a pair RDD of (node_id , (score, edges))\n",
    "        \n",
    "    NOTE: The score should be a float, but you may want to be \n",
    "    strategic about how format the edges... there are a few \n",
    "    options that can work. Make sure that whatever you choose\n",
    "    is sufficient for Question 8 where you'll run PageRank.\n",
    "    \"\"\"\n",
    "    \n",
    "    # write your main Spark code here\n",
    "    initialRdd = dataRDD.flatMap(parse_row_reformat_output)\\\n",
    "                      .reduceByKey(lambda x, y: (x[0]+y[0], x[1]+','+y[1]) if y[1] != '' and x[1] != '' else (x[0]+y[0], x[1]+y[1]))\\\n",
    "                      .cache()\n",
    "    N = initialRdd.count()\n",
    "    graphRDD = initialRdd.map(lambda x: (x[0], (1/N, x[1][1])))\n",
    "    ############## (END) YOUR CODE ##############\n",
    "    \n",
    "    return graphRDD"
   ]
  },
  {
   "cell_type": "markdown",
   "metadata": {},
   "source": [
    "**The following shows job run on original test data with no repeat adjacent nodes**"
   ]
  },
  {
   "cell_type": "code",
   "execution_count": 7,
   "metadata": {},
   "outputs": [
    {
     "name": "stdout",
     "output_type": "stream",
     "text": [
      "... test graph initialized in 2.6720263957977295 seconds.\n"
     ]
    },
    {
     "data": {
      "text/plain": [
       "[('1', (0.09090909090909091, '')),\n",
       " ('4', (0.09090909090909091, '1,2')),\n",
       " ('8', (0.09090909090909091, '2,5')),\n",
       " ('9', (0.09090909090909091, '2,5')),\n",
       " ('10', (0.09090909090909091, '5')),\n",
       " ('3', (0.09090909090909091, '2')),\n",
       " ('2', (0.09090909090909091, '3')),\n",
       " ('6', (0.09090909090909091, '2,5')),\n",
       " ('5', (0.09090909090909091, '4,2,6')),\n",
       " ('7', (0.09090909090909091, '2,5')),\n",
       " ('11', (0.09090909090909091, '5'))]"
      ]
     },
     "execution_count": 7,
     "metadata": {},
     "output_type": "execute_result"
    }
   ],
   "source": [
    "# part c - run your Spark job on the test graph (RUN THIS CELL AS IS)\n",
    "start = time.time()\n",
    "testGraph = initGraph(testRDD).collect()\n",
    "print(f'... test graph initialized in {time.time() - start} seconds.')\n",
    "testGraph"
   ]
  },
  {
   "cell_type": "markdown",
   "metadata": {},
   "source": [
    "**The following shows job run on second test file data with repeat adjacent nodes**"
   ]
  },
  {
   "cell_type": "code",
   "execution_count": 8,
   "metadata": {},
   "outputs": [
    {
     "name": "stdout",
     "output_type": "stream",
     "text": [
      "... test graph initialized in 0.6965446472167969 seconds.\n"
     ]
    },
    {
     "data": {
      "text/plain": [
       "[('1', (0.09090909090909091, '')),\n",
       " ('4', (0.09090909090909091, '1,2')),\n",
       " ('8', (0.09090909090909091, '2,5')),\n",
       " ('9', (0.09090909090909091, '2,5')),\n",
       " ('10', (0.09090909090909091, '5')),\n",
       " ('3', (0.09090909090909091, '2,2')),\n",
       " ('2', (0.09090909090909091, '3')),\n",
       " ('6', (0.09090909090909091, '2,5,5')),\n",
       " ('5', (0.09090909090909091, '4,4,4,2,6')),\n",
       " ('7', (0.09090909090909091, '2,5')),\n",
       " ('11', (0.09090909090909091, '5,5'))]"
      ]
     },
     "execution_count": 8,
     "metadata": {},
     "output_type": "execute_result"
    }
   ],
   "source": [
    "# part c - run your Spark job on the SECOND test graph (RUN THIS CELL AS IS)\n",
    "start = time.time()\n",
    "testGraph2 = initGraph(testRDD2).collect()\n",
    "print(f'... test graph initialized in {time.time() - start} seconds.')\n",
    "testGraph2"
   ]
  },
  {
   "cell_type": "code",
   "execution_count": 9,
   "metadata": {},
   "outputs": [
    {
     "name": "stdout",
     "output_type": "stream",
     "text": [
      "... full graph initialized in 702.7489678859711 seconds\n"
     ]
    }
   ],
   "source": [
    "# part c - run your code on the main graph (RUN THIS CELL AS IS)\n",
    "start = time.time()\n",
    "wikiGraphRDD = initGraph(wikiRDD)\n",
    "print(f'... full graph initialized in {time.time() - start} seconds')"
   ]
  },
  {
   "cell_type": "code",
   "execution_count": 10,
   "metadata": {},
   "outputs": [
    {
     "name": "stdout",
     "output_type": "stream",
     "text": [
      "Total number of records: 15192277\n",
      "First record: [('11777840', (6.582291778908455e-08, '6127245,5158607,5158607,757856,14772413,14803224,6905109,10666321,10666321,6007184,6007184,12469293,14773825,14773825,9343079,8892083,13077979,9285165,9285165,9285165,9285165,9285165,14978814,6420484,9789784,9789784,9789784,9789784,9789784,14482968,981395,981395,2921,15173803,12617777,7021832,7021832,2335603,14484050,9922389,11023778,2344940,6905766,9447742,9447742,6557458,1425342,9660994,9660994,11390944,11390944,11390944,14261593,14928135,14841606,14841606,14765621,12530354,2335868,13636570,13636570,13636570,13636570,13636570,13636570,2335876,9827642,15105458,9501013,9501013,11101298,9395391,9395391,6416278,15018227,8024321,11656072,11656072,11656072,11656072,11656072,5165182,6420027,7337035,7337035,14712897,14712897,10898196,15161507,535091,5595377,1725688,14183835,1402856,1398329,14670682,14210235,11696376,15087242,14900113,7316613,12071841,12048800,12048800,14624941,5789809,5789809,11497740,11497740'))]\n",
      "... initialization continued: 71.12424230575562 seconds\n"
     ]
    }
   ],
   "source": [
    "# part c - confirm record format and count (RUN THIS CELL AS IS)\n",
    "start = time.time()\n",
    "print(f'Total number of records: {wikiGraphRDD.count()}')\n",
    "print(f'First record: {wikiGraphRDD.take(1)}')\n",
    "print(f'... initialization continued: {time.time() - start} seconds')"
   ]
  },
  {
   "cell_type": "markdown",
   "metadata": {},
   "source": [
    "# Question 8 - PageRank part 2 (Iterate until convergence)\n",
    "\n",
    "Finally we're ready to compute the page rank. In this last question you'll write a Spark job that iterates over the initialized graph updating each nodes score until it reaches a convergence threshold. The diagram below gives a visual overview of the process using a 5 node toy graph. Pay particular attention to what happens to the dangling mass at each iteration.\n",
    "\n",
    "<img src='PR-illustrated.png'>\n",
    "\n",
    "\n",
    "\n",
    "__`A Note about Notation:`__ The formula above describes how to compute the updated page rank for a node in the graph. The $P$ on the left hand side of the equation is the new score, and the $P$ on the right hand side of the equation represents the accumulated mass that was re-distributed from all of that node's in-links. Finally, $|G|$ is the number of nodes in the graph (which we've elsewhere refered to as $N$).\n",
    "\n",
    "### Q8 Tasks:\n",
    "* __a) short response:__ In terms of the infinite random walk analogy, interpret the meaning of the first term in the PageRank calculation: $\\alpha * \\frac{1}{|G|}$\n",
    "\n",
    "* __b) short response:__ In the equation for the PageRank calculation above what does $m$ represent and why do we divide it by $|G|$?\n",
    "\n",
    "* __c) short response:__ Keeping track of the total probability mass after each update is a good way to confirm that your algorithm is on track. How much should the total mass be after each iteration?\n",
    "\n",
    "* __d) code:__ Fill in the missing code below to create a Spark job that take the initialized graph as its input then iterates over the graph and for each pass:\n",
    "  * reads in each record and redistributes the node's current score to each of its neighbors\n",
    "  * uses an accumulator to add up the dangling node mass and redistribute it among all the nodes. (_Don't forget to reset this accumulator after each iteration!_)\n",
    "  * uses an accumulator to keep track of the total mass being redistributed.( _This is just for your own check, its not part of the PageRank calculation. Don't forget to reset this accumulator after each iteration._)\n",
    "  * aggregates these partial scores for each node\n",
    "  * applies telportation and damping factors as described in the formula above.\n",
    "  * combine all of the above to compute the PageRank as described by the formula above.\n",
    "  * \n",
    "  \n",
    "   __WARNING:__ Some pages contain multiple hyperlinks to the same destination, please take this into account when redistributing the mass.\n",
    "\n",
    "* __e)__ Please report your environment configuration. ie, # of machines, # of cores, Memory of each. As well as timings.\n",
    " \n",
    "__`NOTE:`__ Please observe scalability best practices in the design of your code & comment your work clearly. You will be graded on both the clarity and the design."
   ]
  },
  {
   "cell_type": "markdown",
   "metadata": {},
   "source": [
    "### Q8 Student Answers:\n",
    "\n",
    "> __a)__ The term $\\alpha * \\frac{1}{|G|}$ represents the distribution of the teleportation factor across all nodes in the graph.  The teleportation factor is the probability that teleportation was the means the traversal to a node, rather than from an edge.  Since the method of teleportation is the same to any node from any other node, the page rank contribution due to teleportation for any node is the same.  Therefore, teleportation contibutes the amount $\\alpha * \\frac{1}{|G|}$ to every node's page rank calculation, which is the probability of teleportation divided by the total number of nodes, |G|.\n",
    "\n",
    "> __b)__ In the equation above, m represents the total dangling mass.  The dangling mass in each iteration is equally distributed across all nodes, as it represents the mass loss from the dangling nodes.  For equal distibution, we divide by |G|, the number of nodes. \n",
    "\n",
    "> __c)__ Each iteration only redistributes the total mass that we started with, and does not add or delete mass.  Therefore, the total mass after each iteration should always match our initial total mass introduced to the algorithm, which is 1. \n",
    "\n",
    "> __e)__ Environment - The operating system is Mac OS X, version 10.14.3. There are 2 cores, 14 GB of Memory and 4 CPUs."
   ]
  },
  {
   "cell_type": "code",
   "execution_count": 11,
   "metadata": {},
   "outputs": [],
   "source": [
    "# part d - provided FloatAccumulator class (RUN THIS CELL AS IS)\n",
    "\n",
    "from pyspark.accumulators import AccumulatorParam\n",
    "\n",
    "class FloatAccumulatorParam(AccumulatorParam):\n",
    "    \"\"\"\n",
    "    Custom accumulator for use in page rank to keep track of various masses.\n",
    "    \n",
    "    IMPORTANT: accumulators should only be called inside actions to avoid duplication.\n",
    "    We stringly recommend you use the 'foreach' action in your implementation below.\n",
    "    \"\"\"\n",
    "    def zero(self, value):\n",
    "        return value\n",
    "    def addInPlace(self, val1, val2):\n",
    "        return val1 + val2"
   ]
  },
  {
   "cell_type": "code",
   "execution_count": 18,
   "metadata": {},
   "outputs": [],
   "source": [
    "# part d - job to run PageRank (RUN THIS CELL AS IS)\n",
    "    \n",
    "############## YOUR CODE HERE ###############\n",
    "    \n",
    "# write your helper functions here, \n",
    "# please document the purpose of each clearly \n",
    "# for reference, the master solution has 5 helper functions.\n",
    "\n",
    "def dangling_mass_accumulator(row, dm):\n",
    "    \"\"\"\n",
    "    adds row mass to the dangling mass accumulator only if itentified to be a dangling node\n",
    "    dangling nodes are identified has having blank adjacency list\n",
    "    must be called in spark job BEFORE mass redistribution of non-dangling nodes\n",
    "    \"\"\"\n",
    "    node, payload = row\n",
    "    \n",
    "    if payload[1] == '':\n",
    "        dm.add(payload[0])\n",
    "        \n",
    "    \n",
    "\n",
    "def redistribution(row):\n",
    "    \"\"\"\n",
    "    redistributes mass to outbound nodes for non-dangling nodes only\n",
    "    \n",
    "    for all nodes, output original rdd row with modification of mass = 0\n",
    "        this ensures that all adjency lists are preserved for next iteration\n",
    "        mass is set to 0 since redistribution or accumulation to dangling node mass has already occured\n",
    "    \"\"\"\n",
    "    node, payload = row\n",
    "    \n",
    "    #if not dangling\n",
    "    if payload[1] != '':\n",
    "        #get adjacency list from string\n",
    "        adj_list = payload[1].split(',')\n",
    "        #calculate out-degree distribution which is current mass divided by out-degree\n",
    "        dist_mass = payload[0]/len(adj_list)\n",
    "        \n",
    "        for adj in adj_list:\n",
    "            yield (adj, (dist_mass, ''))\n",
    "        \n",
    "    #output original row with 0 mass to ensure that node and adjacency list are used in next iteration\n",
    "    #but set mass to 0 because mass has either been accumulated to dangling mass total or distributed to outlinks\n",
    "    yield (node, (0, payload[1]))\n",
    "    \n",
    "def new_mass(row, dm, alpha, damping, N):\n",
    "    \"\"\"\n",
    "    calculate the new mass of each node using equation \n",
    "    must be called after dangling mass accumulation, redistribution, and first reducing step\n",
    "    \"\"\"\n",
    "    node, payload = row\n",
    "    \n",
    "    newMass = alpha/N + damping*(dm/N+payload[0])\n",
    "    \n",
    "    return (node, (newMass, payload[1]))\n",
    "\n",
    "def total_mass_accumulator(row, tm):\n",
    "    \"\"\"\n",
    "    calculates total mass at then end of an iteration\n",
    "    \"\"\"\n",
    "    node, payload = row\n",
    "    \n",
    "    tm.add(payload[0])\n",
    "        \n",
    "        \n",
    "def runPageRank(graphInitRDD, alpha = 0.15, maxIter = 10, verbose = True):\n",
    "    \"\"\"\n",
    "    Spark job to implement page rank\n",
    "    Args: \n",
    "        graphInitRDD  - pair RDD of (node_id , (score, edges))\n",
    "        alpha         - (float) teleportation factor\n",
    "        maxIter       - (int) stopping criteria (number of iterations)\n",
    "        verbose       - (bool) option to print logging info after each iteration\n",
    "    Returns:\n",
    "        steadyStateRDD - pair RDD of (node_id, pageRank)\n",
    "    \"\"\"\n",
    "    # teleportation:\n",
    "    a = sc.broadcast(alpha)\n",
    "    \n",
    "    # damping factor:\n",
    "    d = sc.broadcast(1-a.value)\n",
    "    \n",
    "    # initialize accumulators for dangling mass & total mass\n",
    "    mmAccum = sc.accumulator(0.0, FloatAccumulatorParam())\n",
    "    totAccum = sc.accumulator(0.0, FloatAccumulatorParam())\n",
    "\n",
    "        \n",
    "    # write your main Spark Job here (including the for loop to iterate)\n",
    "    # for reference, the master solution is 21 lines including comments & whitespace\n",
    "    \n",
    "    #get row count first, as this will not change for future iterations\n",
    "    N = graphInitRDD.count()\n",
    "    \n",
    "    for i in range(maxIter):\n",
    "        \n",
    "        #at the start of every iteration, initialize a new rdd from previous iteration result\n",
    "        jobRDD = graphInitRDD.map(lambda x: x)\n",
    "        \n",
    "        #find dangling mass total and broadcast to be used in map function later\n",
    "        jobRDD.foreach(lambda x: dangling_mass_accumulator(x,mmAccum))\n",
    "        dm_total = sc.broadcast(mmAccum.value)\n",
    "    \n",
    "        #entire job for mass flow\n",
    "        #first redistribution of non-dangling node masses to outlinks\n",
    "        #followed by reducing by key for all node masses to calculate total from inlinks\n",
    "        #followed by calculation of new mass taking into consideration teleportation and damping factors\n",
    "        #reassign result to graphInitRdd for next iteration\n",
    "        graphInitRDD = jobRDD.flatMap(redistribution)\\\n",
    "                    .reduceByKey(lambda x, y: (x[0]+y[0], x[1]+','+y[1]) if y[1] != '' and x[1] != '' else (x[0]+y[0], x[1]+y[1]))\\\n",
    "                    .map(lambda x: new_mass(x, dm_total.value, a.value, d.value, N))\\\n",
    "                    .cache()\n",
    "        jobRDD.foreach(lambda x: total_mass_accumulator(x,totAccum))\n",
    "        \n",
    "        \n",
    "        #if verbose is on, print total mass for check and the current RDD result\n",
    "        if verbose == True:\n",
    "            #print total mass for sanity check\n",
    "            print('\\nTotal Mass at the end of iteration '+str(i+1)+\";\", totAccum.value)\n",
    "            #print dangling mass for sanity check\n",
    "            #print('Dangling Mass at the end of iteration '+str(i+1)+\";\", mmAccum.value)\n",
    "            #current mass distribution\n",
    "            #print('Current mass distribution is:')\n",
    "            #print(graphInitRDD.collect())\n",
    "        \n",
    "        #set accumulators to 0 before next iteration\n",
    "        mmAccum = sc.accumulator(0.0, FloatAccumulatorParam())\n",
    "        totAccum = sc.accumulator(0.0, FloatAccumulatorParam())\n",
    "        \n",
    "    #get steadyStateRDD after iterations complete\n",
    "    steadyStateRDD = graphInitRDD.map(lambda x: (x[0], x[1][0]))\n",
    "    \n",
    "    ############## (END) YOUR CODE ###############\n",
    "    \n",
    "    return steadyStateRDD"
   ]
  },
  {
   "cell_type": "markdown",
   "metadata": {},
   "source": [
    "**The following shows final result for page rank job on original test file, no repeate adjacent nodes.  This matches provided output**"
   ]
  },
  {
   "cell_type": "code",
   "execution_count": 15,
   "metadata": {},
   "outputs": [
    {
     "name": "stdout",
     "output_type": "stream",
     "text": [
      "\n",
      "Total Mass at the end of iteration 1; 1.0\n",
      "Dangling Mass at the end of iteration 1; 0.09090909090909091\n",
      "Current mass distribution is:\n",
      "[('1', (0.059297520661157024, '')), ('4', (0.046418732782369146, '1,2')), ('8', (0.02066115702479339, '2,5')), ('9', (0.02066115702479339, '2,5')), ('10', (0.02066115702479339, '5')), ('2', (0.3168732782369146, '3')), ('5', (0.32975206611570246, '4,2,6')), ('3', (0.09793388429752066, '2')), ('6', (0.046418732782369146, '2,5')), ('7', (0.02066115702479339, '2,5')), ('11', (0.02066115702479339, '5'))]\n",
      "\n",
      "Total Mass at the end of iteration 2; 1.0000000000000002\n",
      "Dangling Mass at the end of iteration 2; 0.059297520661157024\n",
      "Current mass distribution is:\n",
      "[('1', (0.03794640621086902, '')), ('4', (0.11164819684447784, '1,2')), ('8', (0.018218444778362132, '2,5')), ('9', (0.018218444778362132, '2,5')), ('10', (0.018218444778362132, '5')), ('2', (0.26069089656899574, '3')), ('5', (0.09941334835962935, '4,2,6')), ('3', (0.2875607312797395, '2')), ('6', (0.11164819684447784, '2,5')), ('7', (0.018218444778362132, '2,5')), ('11', (0.018218444778362132, '5'))]\n",
      "\n",
      "Total Mass at the end of iteration 3; 0.9999999999999998\n",
      "Dangling Mass at the end of iteration 3; 0.03794640621086902\n",
      "Current mass distribution is:\n",
      "[('1', (0.06401906959337932, '')), ('4', (0.04473570130303789, '1,2')), ('8', (0.016568585934476243, '2,5')), ('9', (0.016568585934476243, '2,5')), ('10', (0.016568585934476243, '5')), ('2', (0.40729180730103426, '3')), ('5', (0.11821894280900667, '4,2,6')), ('3', (0.2381558480181226, '2')), ('6', (0.04473570130303789, '2,5')), ('7', (0.016568585934476243, '2,5')), ('11', (0.016568585934476243, '5'))]\n",
      "\n",
      "Total Mass at the end of iteration 4; 0.9999999999999998\n",
      "Dangling Mass at the end of iteration 4; 0.06401906959337932\n",
      "Current mass distribution is:\n",
      "[('1', (0.037595964795097685, '')), ('4', (0.05207865887052514, '1,2')), ('8', (0.018583291741306584, '2,5')), ('9', (0.018583291741306584, '2,5')), ('10', (0.018583291741306584, '5')), ('2', (0.31366142285996873, '3')), ('5', (0.08688750795016452, '4,2,6')), ('3', (0.36478132794718565, '2')), ('6', (0.05207865887052514, '2,5')), ('7', (0.018583291741306584, '2,5')), ('11', (0.018583291741306584, '5'))]\n",
      "\n",
      "Total Mass at the end of iteration 5; 0.9999999999999998\n",
      "Dangling Mass at the end of iteration 5; 0.037595964795097685\n",
      "Current mass distribution is:\n",
      "[('1', (0.038674936390503456, '')), ('4', (0.04115963362307689, '1,2')), ('8', (0.016541506370530274, '2,5')), ('9', (0.016541506370530274, '2,5')), ('10', (0.016541506370530274, '5')), ('2', (0.4191843193882969, '3')), ('5', (0.09396022932089054, '4,2,6')), ('3', (0.28315371580150367, '2')), ('6', (0.04115963362307689, '2,5')), ('7', (0.016541506370530274, '2,5')), ('11', (0.016541506370530274, '5'))]\n",
      "\n",
      "Total Mass at the end of iteration 6; 0.9999999999999998\n",
      "Dangling Mass at the end of iteration 6; 0.038674936390503456\n",
      "Current mass distribution is:\n",
      "[('1', (0.03411772573816476, '')), ('4', (0.04324694642260941, '1,2')), ('8', (0.016624881448357085, '2,5')), ('9', (0.016624881448357085, '2,5')), ('10', (0.016624881448357085, '5')), ('2', (0.34000371405592894, '3')), ('5', (0.08332870719049233, '4,2,6')), ('3', (0.37293155292840946, '2')), ('6', (0.04324694642260941, '2,5')), ('7', (0.016624881448357085, '2,5')), ('11', (0.016624881448357085, '5'))]\n",
      "\n",
      "Total Mass at the end of iteration 7; 0.9999999999999997\n",
      "Dangling Mass at the end of iteration 7; 0.03411772573816476\n",
      "Current mass distribution is:\n",
      "[('1', (0.03465268558210355, '')), ('4', (0.039882533723134043, '1,2')), ('8', (0.01627273335249455, '2,5')), ('9', (0.01627273335249455, '2,5')), ('10', (0.01627273335249455, '5')), ('2', (0.4148309820181553, '3')), ('5', (0.08411170789096588, '4,2,6')), ('3', (0.3052758903000341, '2')), ('6', (0.039882533723134043, '2,5')), ('7', (0.01627273335249455, '2,5')), ('11', (0.01627273335249455, '5'))]\n",
      "\n",
      "Total Mass at the end of iteration 8; 0.9999999999999997\n",
      "Dangling Mass at the end of iteration 8; 0.03465268558210355\n",
      "Current mass distribution is:\n",
      "[('1', (0.03326414799094906, '')), ('4', (0.04014572172772409, '1,2')), ('8', (0.01631407115861709, '2,5')), ('9', (0.01631407115861709, '2,5')), ('10', (0.01631407115861709, '5')), ('2', (0.35427811717184754, '3')), ('5', (0.08167552971462036, '4,2,6')), ('3', (0.36892040587404906, '2')), ('6', (0.04014572172772409, '2,5')), ('7', (0.01631407115861709, '2,5')), ('11', (0.01631407115861709, '5'))]\n",
      "\n",
      "Total Mass at the end of iteration 9; 0.9999999999999996\n",
      "Dangling Mass at the end of iteration 9; 0.03326414799094906\n",
      "Current mass distribution is:\n",
      "[('1', (0.03326870680631062, '')), ('4', (0.039348175157836986, '1,2')), ('8', (0.01620677507202788, '2,5')), ('9', (0.01620677507202788, '2,5')), ('10', (0.01620677507202788, '5')), ('2', (0.40785482434658094, '3')), ('5', (0.08180306850319648, '4,2,6')), ('3', (0.3173431746680983, '2')), ('6', (0.039348175157836986, '2,5')), ('7', (0.01620677507202788, '2,5')), ('11', (0.01620677507202788, '5'))]\n",
      "\n",
      "Total Mass at the end of iteration 10; 0.9999999999999996\n",
      "Dangling Mass at the end of iteration 10; 0.03326870680631062\n",
      "Current mass distribution is:\n",
      "[('1', (0.03293010178620472, '')), ('4', (0.03938466342002967, '1,2')), ('8', (0.016207127344124002, '2,5')), ('9', (0.016207127344124002, '2,5')), ('10', (0.016207127344124002, '5')), ('2', (0.36323594898891015, '3')), ('5', (0.08114525762548766, '4,2,6')), ('3', (0.36288372803871777, '2')), ('6', (0.03938466342002967, '2,5')), ('7', (0.016207127344124002, '2,5')), ('11', (0.016207127344124002, '5'))]\n",
      "\n",
      "Total Mass at the end of iteration 11; 0.9999999999999996\n",
      "Dangling Mass at the end of iteration 11; 0.03293010178620472\n",
      "Current mass distribution is:\n",
      "[('1', (0.03291944436426479, '')), ('4', (0.03917211873797369, '1,2')), ('8', (0.016180962410752182, '2,5')), ('9', (0.016180962410752182, '2,5')), ('10', (0.016180962410752182, '5')), ('2', (0.40176433884166707, '3')), ('5', (0.0811356482130337, '4,2,6')), ('3', (0.3249315190513258, '2')), ('6', (0.03917211873797369, '2,5')), ('7', (0.016180962410752182, '2,5')), ('11', (0.016180962410752182, '5'))]\n",
      "\n",
      "Total Mass at the end of iteration 12; 0.9999999999999997\n",
      "Dangling Mass at the end of iteration 12; 0.03291944436426479\n",
      "Current mass distribution is:\n",
      "[('1', (0.032828289346332, '')), ('4', (0.03916857254305273, '1,2')), ('8', (0.016180138882693186, '2,5')), ('9', (0.016180138882693186, '2,5')), ('10', (0.016180138882693186, '5')), ('2', (0.3692873917376663, '3')), ('5', (0.08096665251831976, '4,2,6')), ('3', (0.3576798268981102, '2')), ('6', (0.03916857254305273, '2,5')), ('7', (0.016180138882693186, '2,5')), ('11', (0.016180138882693186, '5'))]\n",
      "\n",
      "Total Mass at the end of iteration 13; 0.9999999999999996\n",
      "Dangling Mass at the end of iteration 13; 0.032828289346332\n",
      "Current mass distribution is:\n",
      "[('1', (0.03281973841665034, '')), ('4', (0.03911364663271019, '1,2')), ('8', (0.016173095085852927, '2,5')), ('9', (0.016173095085852927, '2,5')), ('10', (0.016173095085852927, '5')), ('2', (0.39706446323313244, '3')), ('5', (0.08095565159266258, '4,2,6')), ('3', (0.33006737806286923, '2')), ('6', (0.03911364663271019, '2,5')), ('7', (0.016173095085852927, '2,5')), ('11', (0.016173095085852927, '5'))]\n",
      "\n",
      "Total Mass at the end of iteration 14; 0.9999999999999997\n",
      "Dangling Mass at the end of iteration 14; 0.03281973841665034\n",
      "Current mass distribution is:\n",
      "[('1', (0.03279573415109754, '')), ('4', (0.03910986895011677, '1,2')), ('8', (0.016172434332195708, '2,5')), ('9', (0.016172434332195708, '2,5')), ('10', (0.016172434332195708, '5')), ('2', (0.37353443617582177, '3')), ('5', (0.08091069203151, '4,2,6')), ('3', (0.35367722808035823, '2')), ('6', (0.03910986895011677, '2,5')), ('7', (0.016172434332195708, '2,5')), ('11', (0.016172434332195708, '5'))]\n",
      "\n",
      "Total Mass at the end of iteration 15; 0.9999999999999997\n",
      "Dangling Mass at the end of iteration 15; 0.03279573415109754\n",
      "Current mass distribution is:\n",
      "[('1', (0.032792273760929885, '')), ('4', (0.03909527553272476, '1,2')), ('8', (0.01617057945713026, '2,5')), ('9', (0.01617057945713026, '2,5')), ('10', (0.01617057945713026, '5')), ('2', (0.3935841617821781, '3')), ('5', (0.08090526589921213, '4,2,6')), ('3', (0.3336748502065788, '2')), ('6', (0.03909527553272476, '2,5')), ('7', (0.01617057945713026, '2,5')), ('11', (0.01617057945713026, '5'))]\n",
      "\n",
      "Total Mass at the end of iteration 16; 0.9999999999999998\n",
      "Dangling Mass at the end of iteration 16; 0.032792273760929885\n",
      "Current mass distribution is:\n",
      "[('1', (0.0327858041647526, '')), ('4', (0.03909347073478801, '1,2')), ('8', (0.016170312063344582, '2,5')), ('9', (0.016170312063344582, '2,5')), ('10', (0.016170312063344582, '5')), ('2', (0.37656556642103706, '3')), ('5', (0.08089327804971515, '4,2,6')), ('3', (0.35071684957819593, '2')), ('6', (0.03909347073478801, '2,5')), ('7', (0.016170312063344582, '2,5')), ('11', (0.016170312063344582, '5'))]\n",
      "\n",
      "Total Mass at the end of iteration 17; 0.9999999999999998\n",
      "Dangling Mass at the end of iteration 17; 0.0327858041647526\n",
      "Current mass distribution is:\n",
      "[('1', (0.032784537202288515, '')), ('4', (0.039089574254089564, '1,2')), ('8', (0.016169812140003608, '2,5')), ('9', (0.016169812140003608, '2,5')), ('10', (0.016169812140003608, '5')), ('2', (0.39104549440089026, '3')), ('5', (0.08089121559073865, '4,2,6')), ('3', (0.3362505435978851, '2')), ('6', (0.039089574254089564, '2,5')), ('7', (0.016169812140003608, '2,5')), ('11', (0.016169812140003608, '5'))]\n",
      "\n",
      "Total Mass at the end of iteration 18; 0.9999999999999997\n",
      "Dangling Mass at the end of iteration 18; 0.032784537202288515\n",
      "Current mass distribution is:\n",
      "[('1', (0.03278278329634672, '')), ('4', (0.039088891989067946, '1,2')), ('8', (0.016169714238358657, '2,5')), ('9', (0.016169714238358657, '2,5')), ('10', (0.016169714238358657, '5')), ('2', (0.37874450264175097, '3')), ('5', (0.08088797441285746, '4,2,6')), ('3', (0.34855838447911536, '2')), ('6', (0.039088891989067946, '2,5')), ('7', (0.016169714238358657, '2,5')), ('11', (0.016169714238358657, '5'))]\n",
      "\n",
      "Total Mass at the end of iteration 19; 0.9999999999999997\n",
      "Dangling Mass at the end of iteration 19; 0.03278278329634672\n",
      "Current mass distribution is:\n",
      "[('1', (0.03278235780461703, '')), ('4', (0.039087838126239435, '1,2')), ('8', (0.016169578709263156, '2,5')), ('9', (0.016169578709263156, '2,5')), ('10', (0.016169578709263156, '5')), ('2', (0.38920440877810253, '3')), ('5', (0.08088725766373404, '4,2,6')), ('3', (0.33810240595475144, '2')), ('6', (0.039087838126239435, '2,5')), ('7', (0.016169578709263156, '2,5')), ('11', (0.016169578709263156, '5'))]\n",
      "\n",
      "Total Mass at the end of iteration 20; 0.9999999999999997\n",
      "Dangling Mass at the end of iteration 20; 0.03278235780461703\n",
      "Current mass distribution is:\n",
      "[('1', (0.032781877034008526, '')), ('4', (0.039087602168414746, '1,2')), ('8', (0.01616954583035677, '2,5')), ('9', (0.01616954583035677, '2,5')), ('10', (0.01616954583035677, '5')), ('2', (0.38031552249156747, '3')), ('5', (0.08088637369406641, '4,2,6')), ('3', (0.3469932932917439, '2')), ('6', (0.039087602168414746, '2,5')), ('7', (0.01616954583035677, '2,5')), ('11', (0.01616954583035677, '5'))]\n",
      "\n",
      "...trained 20 iterations in 10.296226263046265 seconds.\n",
      "Top 20 ranked nodes:\n"
     ]
    },
    {
     "data": {
      "text/plain": [
       "[('2', 0.38031552249156747),\n",
       " ('3', 0.3469932932917439),\n",
       " ('5', 0.08088637369406641),\n",
       " ('4', 0.039087602168414746),\n",
       " ('6', 0.039087602168414746),\n",
       " ('1', 0.032781877034008526),\n",
       " ('8', 0.01616954583035677),\n",
       " ('9', 0.01616954583035677),\n",
       " ('10', 0.01616954583035677),\n",
       " ('7', 0.01616954583035677),\n",
       " ('11', 0.01616954583035677)]"
      ]
     },
     "execution_count": 15,
     "metadata": {},
     "output_type": "execute_result"
    }
   ],
   "source": [
    "# part d - run PageRank on the test graph (RUN THIS CELL AS IS)\n",
    "# NOTE: while developing your code you may want turn on the verbose option\n",
    "nIter = 20\n",
    "testGraphRDD = initGraph(testRDD)\n",
    "start = time.time()\n",
    "test_results = runPageRank(testGraphRDD, alpha = 0.15, maxIter = nIter, verbose = True)\n",
    "print(f'\\n...trained {nIter} iterations in {time.time() - start} seconds.')\n",
    "print(f'Top 20 ranked nodes:')\n",
    "test_results.takeOrdered(20, key=lambda x: - x[1])"
   ]
  },
  {
   "cell_type": "markdown",
   "metadata": {},
   "source": [
    "__`expected results for the test graph:`__\n",
    "```\n",
    "(2, 0.3803155224915675)\n",
    "(3, 0.3469932932917439)\n",
    "(5, 0.08088637369406641)\n",
    "(4, 0.039087602168414746)\n",
    "(6, 0.039087602168414746)\n",
    "(1, 0.032781877034008526)\n",
    "(8, 0.01616954583035677)\n",
    "(10, 0.01616954583035677)\n",
    "(7, 0.01616954583035677)\n",
    "(9, 0.01616954583035677)\n",
    "(11, 0.01616954583035677)\n",
    "```"
   ]
  },
  {
   "cell_type": "markdown",
   "metadata": {},
   "source": [
    "**I also run the job on the second test file with repeat adjacency nodes, if needed**"
   ]
  },
  {
   "cell_type": "code",
   "execution_count": 19,
   "metadata": {},
   "outputs": [
    {
     "name": "stdout",
     "output_type": "stream",
     "text": [
      "\n",
      "Total Mass at the end of iteration 1; 1.0\n",
      "\n",
      "Total Mass at the end of iteration 2; 1.0\n",
      "\n",
      "Total Mass at the end of iteration 3; 0.9999999999999999\n",
      "\n",
      "Total Mass at the end of iteration 4; 0.9999999999999998\n",
      "\n",
      "Total Mass at the end of iteration 5; 0.9999999999999998\n",
      "\n",
      "Total Mass at the end of iteration 6; 1.0\n",
      "\n",
      "Total Mass at the end of iteration 7; 0.9999999999999998\n",
      "\n",
      "Total Mass at the end of iteration 8; 0.9999999999999999\n",
      "\n",
      "Total Mass at the end of iteration 9; 0.9999999999999998\n",
      "\n",
      "Total Mass at the end of iteration 10; 0.9999999999999998\n",
      "\n",
      "Total Mass at the end of iteration 11; 0.9999999999999997\n",
      "\n",
      "Total Mass at the end of iteration 12; 0.9999999999999997\n",
      "\n",
      "Total Mass at the end of iteration 13; 0.9999999999999998\n",
      "\n",
      "Total Mass at the end of iteration 14; 0.9999999999999998\n",
      "\n",
      "Total Mass at the end of iteration 15; 0.9999999999999996\n",
      "\n",
      "Total Mass at the end of iteration 16; 0.9999999999999996\n",
      "\n",
      "Total Mass at the end of iteration 17; 0.9999999999999996\n",
      "\n",
      "Total Mass at the end of iteration 18; 0.9999999999999997\n",
      "\n",
      "Total Mass at the end of iteration 19; 0.9999999999999997\n",
      "\n",
      "Total Mass at the end of iteration 20; 0.9999999999999994\n",
      "...trained 20 iterations in 8.291739463806152 seconds.\n",
      "Top 20 ranked nodes:\n"
     ]
    },
    {
     "data": {
      "text/plain": [
       "[('2', 0.3620640495978871),\n",
       " ('3', 0.333992700474142),\n",
       " ('5', 0.08506399429624555),\n",
       " ('4', 0.06030963508473455),\n",
       " ('1', 0.04255740809817991),\n",
       " ('6', 0.03138662354831139),\n",
       " ('8', 0.01692511778009981),\n",
       " ('9', 0.01692511778009981),\n",
       " ('10', 0.01692511778009981),\n",
       " ('7', 0.01692511778009981),\n",
       " ('11', 0.01692511778009981)]"
      ]
     },
     "execution_count": 19,
     "metadata": {},
     "output_type": "execute_result"
    }
   ],
   "source": [
    "# part d - run PageRank on the second test graph (RUN THIS CELL AS IS)\n",
    "# NOTE: while developing your code you may want turn on the verbose option\n",
    "nIter = 20\n",
    "testGraphRDD2 = initGraph(testRDD2)\n",
    "start = time.time()\n",
    "test_results = runPageRank(testGraphRDD2, alpha = 0.15, maxIter = nIter, verbose = True)\n",
    "print(f'...trained {nIter} iterations in {time.time() - start} seconds.')\n",
    "print(f'Top 20 ranked nodes:')\n",
    "test_results.takeOrdered(20, key=lambda x: - x[1])"
   ]
  },
  {
   "cell_type": "code",
   "execution_count": 20,
   "metadata": {},
   "outputs": [
    {
     "name": "stdout",
     "output_type": "stream",
     "text": [
      "\n",
      "Total Mass at the end of iteration 1; 1.0000000000066371\n",
      "\n",
      "Total Mass at the end of iteration 2; 1.0000000000011255\n",
      "\n",
      "Total Mass at the end of iteration 3; 1.0000000000007871\n",
      "\n",
      "Total Mass at the end of iteration 4; 1.0000000000007772\n",
      "\n",
      "Total Mass at the end of iteration 5; 1.000000000001333\n",
      "\n",
      "Total Mass at the end of iteration 6; 1.0000000000005271\n",
      "\n",
      "Total Mass at the end of iteration 7; 1.0000000000009808\n",
      "\n",
      "Total Mass at the end of iteration 8; 1.0000000000002105\n",
      "\n",
      "Total Mass at the end of iteration 9; 1.0000000000008313\n",
      "\n",
      "Total Mass at the end of iteration 10; 1.000000000000832\n",
      "...trained 10 iterations in 8962.678350925446 seconds.\n",
      "Top 20 ranked nodes:\n"
     ]
    },
    {
     "data": {
      "text/plain": [
       "[('13455888', 0.0015447247129815062),\n",
       " ('4695850', 0.0006710240718898991),\n",
       " ('5051368', 0.0005983856809740987),\n",
       " ('1184351', 0.0005982073536461832),\n",
       " ('2437837', 0.0004624928928935398),\n",
       " ('6076759', 0.0004550940064139835),\n",
       " ('4196067', 0.0004423778888367477),\n",
       " ('13425865', 0.00044155351714293),\n",
       " ('6172466', 0.00042240020018403484),\n",
       " ('1384888', 0.00040128956040700394),\n",
       " ('6113490', 0.00039578924771769826),\n",
       " ('14112583', 0.00039438472837498534),\n",
       " ('7902219', 0.00037009878473527217),\n",
       " ('10390714', 0.00036502649643239867),\n",
       " ('12836211', 0.0003619948863109962),\n",
       " ('6237129', 0.0003519555847621222),\n",
       " ('6416278', 0.0003486623564522739),\n",
       " ('13432150', 0.0003393651063737706),\n",
       " ('1516699', 0.00033297500286206026),\n",
       " ('7990491', 0.0003076090626583142)]"
      ]
     },
     "execution_count": 20,
     "metadata": {},
     "output_type": "execute_result"
    }
   ],
   "source": [
    "# part d - run PageRank on the full graph (RUN THIS CELL AS IS)\n",
    "# NOTE: wikiGraphRDD should have been computed & cached above!\n",
    "nIter = 10\n",
    "start = time.time()\n",
    "full_results = runPageRank(wikiGraphRDD, alpha = 0.15, maxIter = nIter, verbose = True)\n",
    "print(f'...trained {nIter} iterations in {time.time() - start} seconds.')\n",
    "print(f'Top 20 ranked nodes:')\n",
    "full_results.takeOrdered(20, key=lambda x: - x[1])"
   ]
  },
  {
   "cell_type": "markdown",
   "metadata": {},
   "source": [
    "# Extra Credit\n",
    "(The combined extra credit points amount to approximately 5 percentage points on your final grade.)"
   ]
  },
  {
   "cell_type": "markdown",
   "metadata": {},
   "source": [
    "## EC 1 - 5pts\n",
    "The indexRDD we created earlier from the indices.txt file contains the titles of the pages and thier IDs. \n",
    "\n",
    "* __a)__ Join this dataset with your top 20 results.   \n",
    "* __b)__ Print the results\n",
    "\n",
    "Expected results:\n",
    "\n",
    "<img src=\"joinedWithTitles.png\" width=\"50%\">"
   ]
  },
  {
   "cell_type": "code",
   "execution_count": null,
   "metadata": {},
   "outputs": [],
   "source": [
    "# part a \n",
    "joinedWithNames = None\n",
    "################# YOUR CODE ##################\n",
    "\n",
    "############## (END) YOUR CODE ###############"
   ]
  },
  {
   "cell_type": "code",
   "execution_count": null,
   "metadata": {},
   "outputs": [],
   "source": [
    "# part b\n",
    "# Feel free to modify this cell to suit your implementation, but please keep the formatting and sort order.\n",
    "print(\"{:10s}\\t| {:10s}\\t| {}\".format(\"PageRank\",\"Page id\",\"Title\"))\n",
    "print(\"=\"*100)\n",
    "for r in joinedWithNames:\n",
    "    print (\"{:6f}\\t| {:10d}\\t| {}\".format(r[1][1],r[0],r[1][0]))"
   ]
  },
  {
   "cell_type": "markdown",
   "metadata": {},
   "source": [
    "## EC 2 - 30pts\n",
    "\n",
    "GraphFrames is a graph library which is built on top of the Spark DataFrames API. \n",
    "\n",
    "* __a)__ Using the same dataset, run the graphframes implementation of pagerank. \n",
    "* __b)__ Join the top 20 results with indices.txt and display in the same format as above.\n",
    "* __c)__ Compare your results with the results from graphframes. \n",
    "\n",
    "__NOTE:__ Feel free to create as many code cells as you need. Code should be clear and concise - do not include your scratch work. Comment your code if it's not self annotating."
   ]
  },
  {
   "cell_type": "code",
   "execution_count": null,
   "metadata": {},
   "outputs": [],
   "source": [
    "# Create a GraphFrame\n",
    "from graphframes import *\n",
    "\n",
    "################# YOUR CODE ##################\n",
    "\n",
    "############## (END) YOUR CODE ###############"
   ]
  },
  {
   "cell_type": "markdown",
   "metadata": {},
   "source": [
    "### Congratulations, you have completed HW5! Please refer to the readme for submission instructions."
   ]
  }
 ],
 "metadata": {
  "kernelspec": {
   "display_name": "Python 3",
   "language": "python",
   "name": "python3"
  },
  "language_info": {
   "codemirror_mode": {
    "name": "ipython",
    "version": 3
   },
   "file_extension": ".py",
   "mimetype": "text/x-python",
   "name": "python",
   "nbconvert_exporter": "python",
   "pygments_lexer": "ipython3",
   "version": "3.6.6"
  },
  "toc": {
   "colors": {
    "hover_highlight": "#DAA520",
    "running_highlight": "#FF0000",
    "selected_highlight": "#FFD700"
   },
   "moveMenuLeft": true,
   "nav_menu": {
    "height": "441px",
    "width": "252px"
   },
   "navigate_menu": true,
   "number_sections": true,
   "sideBar": true,
   "threshold": 4,
   "toc_cell": true,
   "toc_position": {
    "height": "827px",
    "left": "0px",
    "right": "1125px",
    "top": "107px",
    "width": "428px"
   },
   "toc_section_display": "block",
   "toc_window_display": true
  }
 },
 "nbformat": 4,
 "nbformat_minor": 2
}
