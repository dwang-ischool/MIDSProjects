{
 "cells": [
  {
   "cell_type": "markdown",
   "metadata": {},
   "source": [
    "# Project 1: Digit Classification with KNN and Naive Bayes\n",
    "\n",
    "## *******PLEASE RUN IN PYTHON 3 KERNEL********"
   ]
  },
  {
   "cell_type": "markdown",
   "metadata": {},
   "source": [
    "In this project, you'll implement your own image recognition system for classifying digits. Read through the code and the instructions carefully and add your own code where indicated. Each problem can be addressed succinctly with the included packages -- please don't add any more. Grading will be based on writing clean, commented code, along with a few short answers.\n",
    "\n",
    "As always, you're welcome to work on the project in groups and discuss ideas on the course wall, but <b> please prepare your own write-up (with your own code). </b>\n",
    "\n",
    "If you're interested, check out these links related to digit recognition:\n",
    "\n",
    "Yann Lecun's MNIST benchmarks: http://yann.lecun.com/exdb/mnist/\n",
    "\n",
    "Stanford Streetview research and data: http://ufldl.stanford.edu/housenumbers/"
   ]
  },
  {
   "cell_type": "code",
   "execution_count": 1,
   "metadata": {},
   "outputs": [],
   "source": [
    "# This tells matplotlib not to try opening a new window for each plot.\n",
    "%matplotlib inline\n",
    "\n",
    "# Import a bunch of libraries.\n",
    "import time\n",
    "import numpy as np\n",
    "import matplotlib.pyplot as plt\n",
    "from matplotlib.ticker import MultipleLocator\n",
    "from sklearn.pipeline import Pipeline\n",
    "from sklearn.datasets import fetch_openml\n",
    "from sklearn.neighbors import KNeighborsClassifier\n",
    "from sklearn.metrics import confusion_matrix\n",
    "from sklearn.linear_model import LinearRegression\n",
    "from sklearn.naive_bayes import BernoulliNB\n",
    "from sklearn.naive_bayes import MultinomialNB\n",
    "from sklearn.naive_bayes import GaussianNB\n",
    "from sklearn.model_selection import GridSearchCV\n",
    "from sklearn.metrics import classification_report\n",
    "from sklearn.metrics import confusion_matrix\n",
    "from sklearn import metrics\n",
    "\n",
    "# Set the randomizer seed so results are the same each time.\n",
    "np.random.seed(0)"
   ]
  },
  {
   "cell_type": "markdown",
   "metadata": {},
   "source": [
    "Load the data. Notice that we are splitting the data into training, development, and test. We also have a small subset of the training data called mini_train_data and mini_train_labels that you should use in all the experiments below, unless otherwise noted."
   ]
  },
  {
   "cell_type": "code",
   "execution_count": 2,
   "metadata": {},
   "outputs": [
    {
     "name": "stdout",
     "output_type": "stream",
     "text": [
      "data shape:  (70000, 784)\n",
      "label shape: (70000,)\n"
     ]
    }
   ],
   "source": [
    "# Load the digit data from https://www.openml.org/d/554 or from default local location `~/scikit_learn_data/...`\n",
    "X, Y = fetch_openml(name='mnist_784', return_X_y=True, cache=False)\n",
    "\n",
    "# Rescale grayscale values to [0,1].\n",
    "X = X / 255.0\n",
    "\n",
    "# Shuffle the input: create a random permutation of the integers between 0 and the number of data points \n",
    "# and apply this permutation to X and Y.\n",
    "# NOTE: Each time you run this cell, you'll re-shuffle the data, resulting in a different ordering.\n",
    "shuffle = np.random.permutation(np.arange(X.shape[0]))\n",
    "X, Y = X[shuffle], Y[shuffle]\n",
    "\n",
    "print('data shape: ', X.shape)\n",
    "print('label shape:', Y.shape)\n",
    "\n",
    "# Set some variables to hold test, dev, and training data.\n",
    "test_data, test_labels = X[61000:], Y[61000:]\n",
    "dev_data, dev_labels = X[60000:61000], Y[60000:61000]\n",
    "train_data, train_labels = X[:60000], Y[:60000]\n",
    "mini_train_data, mini_train_labels = X[:1000], Y[:1000]"
   ]
  },
  {
   "cell_type": "markdown",
   "metadata": {},
   "source": [
    "### Question 1\n",
    "\n",
    "**(1)** Create a 10x10 grid to visualize 10 examples of each digit. Python hints:\n",
    "\n",
    "- plt.rc() for setting the colormap, for example to black and white\n",
    "- plt.subplot() for creating subplots\n",
    "- plt.imshow() for rendering a matrix\n",
    "- np.array.reshape() for reshaping a 1D feature vector into a 2D matrix (for rendering)"
   ]
  },
  {
   "cell_type": "code",
   "execution_count": null,
   "metadata": {},
   "outputs": [],
   "source": [
    "def P1(num_examples=10):\n",
    "\n",
    "### STUDENT START ###\n",
    "    plt.figure(figsize=(10, 10))\n",
    "    for i in range(10):\n",
    "        \n",
    "        #get get the first 10 image arrays in mini_train_data for each digit 0-9\n",
    "        row = mini_train_data[mini_train_labels==str(i)][:num_examples]\n",
    "        \n",
    "        #for each of the 10 image arrays retrieved, plot as a subplot in the 10x10 grid\n",
    "        for j in range(row.shape[0]):\n",
    "            plt.subplot(10,num_examples,i*num_examples+j+1)\n",
    "            plt.xticks([])\n",
    "            plt.yticks([])\n",
    "            #reshape each image array to a 2-D square matrix.  Dimensions are 28x28=784\n",
    "            plt.imshow(row[j].reshape(28,28), cmap = 'gray_r')\n",
    "            \n",
    "### STUDENT END ###\n",
    "\n",
    "P1(10)"
   ]
  },
  {
   "cell_type": "markdown",
   "metadata": {},
   "source": [
    "### Question 2\n",
    "**(2)** Evaluate a K-Nearest-Neighbors model with k = [1,3,5,7,9] using the mini training set. Report accuracy on the dev set. For k=1, show precision, recall, and F1 for each label. Which is the most difficult digit?\n",
    "\n",
    "- KNeighborsClassifier() for fitting and predicting"
   ]
  },
  {
   "cell_type": "code",
   "execution_count": 4,
   "metadata": {},
   "outputs": [
    {
     "name": "stdout",
     "output_type": "stream",
     "text": [
      "Accuracies for each value of k\n",
      " [[1, 0.884], [3, 0.876], [5, 0.882], [7, 0.877], [9, 0.875]]\n"
     ]
    }
   ],
   "source": [
    "def P2(k_values):\n",
    "\n",
    "### STUDENT START ###\n",
    "    results = []\n",
    "    for k in k_values:\n",
    "        \n",
    "        #for each value of k, use KNeighborsClassifier() to find the predicted labels\n",
    "        model = KNeighborsClassifier(n_neighbors=k)\n",
    "        model.fit(mini_train_data, mini_train_labels)\n",
    "        predicted_labels = model.predict(dev_data)\n",
    "        \n",
    "        #calculate accuracy as number of correctly predicted labels divided by dev labels\n",
    "        accuracy = np.sum(predicted_labels == dev_labels)/dev_labels.size\n",
    "        \n",
    "        #ading k and accuracy as a list pair to the results list\n",
    "        results.append([k, accuracy])\n",
    "    return results\n",
    "### STUDENT END ###\n",
    "\n",
    "k_values = [1, 3, 5, 7, 9]\n",
    "print(\"Accuracies for each value of k\\n\", P2(k_values))"
   ]
  },
  {
   "cell_type": "markdown",
   "metadata": {},
   "source": [
    "- classification_report() for producing precision, recall, F1 results"
   ]
  },
  {
   "cell_type": "code",
   "execution_count": 5,
   "metadata": {},
   "outputs": [
    {
     "name": "stdout",
     "output_type": "stream",
     "text": [
      "              precision    recall  f1-score   support\n",
      "\n",
      "           0       0.95      0.95      0.95       106\n",
      "           1       0.89      0.98      0.93       118\n",
      "           2       0.90      0.79      0.84       106\n",
      "           3       0.93      0.87      0.90        97\n",
      "           4       0.91      0.85      0.88        92\n",
      "           5       0.86      0.88      0.87        88\n",
      "           6       0.92      0.92      0.92       102\n",
      "           7       0.85      0.94      0.89       102\n",
      "           8       0.83      0.77      0.80        94\n",
      "           9       0.80      0.86      0.83        95\n",
      "\n",
      "   micro avg       0.88      0.88      0.88      1000\n",
      "   macro avg       0.88      0.88      0.88      1000\n",
      "weighted avg       0.89      0.88      0.88      1000\n",
      "\n"
     ]
    }
   ],
   "source": [
    "#for k=1, print the classification report\n",
    "model1 = KNeighborsClassifier(n_neighbors=1)\n",
    "model1.fit(mini_train_data, mini_train_labels)\n",
    "predicted_labels1 = model1.predict(dev_data)\n",
    "        \n",
    "print(classification_report(dev_labels, predicted_labels1))"
   ]
  },
  {
   "cell_type": "markdown",
   "metadata": {},
   "source": [
    "**ANSWER:** Precision is a measure of how good the model is at minimizing false negatives while Recall measures how good the model is at minimizing false positives.  The F1-score is the weighted average of precision and recall, and measures how good the model is at minimizing the sum of false negatives and false positives.  Therefore F1-score is is the best measure to use for determining the most difficult digit in this case.  The digit with the lowest number score has the highest sum of false positive and false negatives.  According to the table output above, the most difficult digit is the number 8. "
   ]
  },
  {
   "cell_type": "markdown",
   "metadata": {},
   "source": [
    "### Question 3\n",
    "**(3)** Using k=1, report dev set accuracy for the training set sizes below. Also, measure the amount of time needed for prediction with each training size.\n",
    "\n",
    "- time.time() gives a wall clock value you can use for timing operations"
   ]
  },
  {
   "cell_type": "code",
   "execution_count": 6,
   "metadata": {},
   "outputs": [],
   "source": [
    "import time\n",
    "\n",
    "def P3(train_sizes, accuracies):\n",
    "\n",
    "### STUDENT START ###\n",
    "    times =[]\n",
    "    for t in train_sizes:\n",
    "        \n",
    "        #start time recorded at the beginning of each iteration for amount of time needed\n",
    "        start_time = time.time()\n",
    "        \n",
    "        #partition the train_data and train_labels by first t values\n",
    "        train_data_fit, train_labels_fit = train_data[:t], train_labels[:t]\n",
    "        \n",
    "        #use KNeighborsClassifier() to find the predicted labels\n",
    "        model = KNeighborsClassifier(n_neighbors=1)\n",
    "        model.fit(train_data_fit, train_labels_fit)\n",
    "        predicted_labels = model.predict(dev_data)\n",
    "        \n",
    "        #calculate accuracy as number of correctly predicted labels divided by dev labels\n",
    "        accuracy = np.sum(predicted_labels == dev_labels)/dev_labels.size\n",
    "        \n",
    "        #amount of time calculated by end time - start time\n",
    "        time_needed = float(time.time() - start_time)\n",
    "        \n",
    "        accuracies.append(accuracy)\n",
    "        times.append(time_needed)\n",
    "    return [accuracies, times]\n",
    "\n",
    "\n",
    "train_sizes = [100, 200, 400, 800, 1600, 3200, 6400, 12800, 25000]\n",
    "accuracies = []\n",
    "P3_results = P3(train_sizes, accuracies)"
   ]
  },
  {
   "cell_type": "code",
   "execution_count": 7,
   "metadata": {},
   "outputs": [
    {
     "data": {
      "text/html": [
       "<div>\n",
       "<style scoped>\n",
       "    .dataframe tbody tr th:only-of-type {\n",
       "        vertical-align: middle;\n",
       "    }\n",
       "\n",
       "    .dataframe tbody tr th {\n",
       "        vertical-align: top;\n",
       "    }\n",
       "\n",
       "    .dataframe thead th {\n",
       "        text-align: right;\n",
       "    }\n",
       "</style>\n",
       "<table border=\"1\" class=\"dataframe\">\n",
       "  <thead>\n",
       "    <tr style=\"text-align: right;\">\n",
       "      <th></th>\n",
       "      <th>Training Size</th>\n",
       "      <th>Accuracy</th>\n",
       "      <th>Time(s)</th>\n",
       "    </tr>\n",
       "  </thead>\n",
       "  <tbody>\n",
       "    <tr>\n",
       "      <th>0</th>\n",
       "      <td>100.0</td>\n",
       "      <td>0.702</td>\n",
       "      <td>0.200260</td>\n",
       "    </tr>\n",
       "    <tr>\n",
       "      <th>1</th>\n",
       "      <td>200.0</td>\n",
       "      <td>0.791</td>\n",
       "      <td>0.386156</td>\n",
       "    </tr>\n",
       "    <tr>\n",
       "      <th>2</th>\n",
       "      <td>400.0</td>\n",
       "      <td>0.811</td>\n",
       "      <td>1.002020</td>\n",
       "    </tr>\n",
       "    <tr>\n",
       "      <th>3</th>\n",
       "      <td>800.0</td>\n",
       "      <td>0.866</td>\n",
       "      <td>1.765261</td>\n",
       "    </tr>\n",
       "    <tr>\n",
       "      <th>4</th>\n",
       "      <td>1600.0</td>\n",
       "      <td>0.905</td>\n",
       "      <td>3.299525</td>\n",
       "    </tr>\n",
       "    <tr>\n",
       "      <th>5</th>\n",
       "      <td>3200.0</td>\n",
       "      <td>0.927</td>\n",
       "      <td>6.630183</td>\n",
       "    </tr>\n",
       "    <tr>\n",
       "      <th>6</th>\n",
       "      <td>6400.0</td>\n",
       "      <td>0.939</td>\n",
       "      <td>13.470150</td>\n",
       "    </tr>\n",
       "    <tr>\n",
       "      <th>7</th>\n",
       "      <td>12800.0</td>\n",
       "      <td>0.952</td>\n",
       "      <td>26.705977</td>\n",
       "    </tr>\n",
       "    <tr>\n",
       "      <th>8</th>\n",
       "      <td>25000.0</td>\n",
       "      <td>0.962</td>\n",
       "      <td>58.852365</td>\n",
       "    </tr>\n",
       "  </tbody>\n",
       "</table>\n",
       "</div>"
      ],
      "text/plain": [
       "   Training Size  Accuracy    Time(s)\n",
       "0          100.0     0.702   0.200260\n",
       "1          200.0     0.791   0.386156\n",
       "2          400.0     0.811   1.002020\n",
       "3          800.0     0.866   1.765261\n",
       "4         1600.0     0.905   3.299525\n",
       "5         3200.0     0.927   6.630183\n",
       "6         6400.0     0.939  13.470150\n",
       "7        12800.0     0.952  26.705977\n",
       "8        25000.0     0.962  58.852365"
      ]
     },
     "execution_count": 7,
     "metadata": {},
     "output_type": "execute_result"
    }
   ],
   "source": [
    "# print results in a nice table:\n",
    "import pandas as pd\n",
    "\n",
    "results_table = pd.DataFrame([train_sizes, P3_results[0], P3_results[1]]).T\n",
    "results_table.columns = [\"Training Size\", \"Accuracy\", \"Time(s)\"]\n",
    "\n",
    "results_table\n",
    "\n",
    "### STUDENT END ###"
   ]
  },
  {
   "cell_type": "markdown",
   "metadata": {},
   "source": [
    "### Question 4\n",
    "**(4)** Fit a regression model that predicts accuracy from training size. What does it predict for n=60000? What's wrong with using regression here? Can you apply a transformation that makes the predictions more reasonable?\n",
    "\n",
    "- Remember that the sklearn fit() functions take an input matrix X and output vector Y. So each input example in X is a vector, even if it contains only a single value."
   ]
  },
  {
   "cell_type": "code",
   "execution_count": 8,
   "metadata": {},
   "outputs": [
    {
     "name": "stdout",
     "output_type": "stream",
     "text": [
      "Intercept: [0.83440866]\n",
      "Coefficient: [[6.83806142e-06]]\n",
      "\n",
      "Estimated Function: y = 0.83 + 0.00x\n",
      "Estimated Accuracy at n = 60000 is 1.2447\n"
     ]
    },
    {
     "data": {
      "image/png": "[encoded data removed]",
      "text/plain": [
       "<matplotlib.figure.Figure at 0x1a1bb4a978>"
      ]
     },
     "metadata": {},
     "output_type": "display_data"
    }
   ],
   "source": [
    "def P4():\n",
    "\n",
    "### STUDENT START ###\n",
    "    #retrieve the train_sizes and accuracy columns from the table in #3\n",
    "    #transform them into 2D array vectors\n",
    "    ts = results_table['Training Size'].as_matrix()[:, np.newaxis]\n",
    "    acc = results_table['Accuracy'].as_matrix()[:, np.newaxis]\n",
    "    \n",
    "    #fit linear regression model to training sizes and accuracy\n",
    "    lr = LinearRegression(fit_intercept=True)\n",
    "    lr.fit(ts, acc)\n",
    "    print(\"Intercept:\", lr.intercept_)\n",
    "    print(\"Coefficient:\", lr.coef_)\n",
    "    print('\\nEstimated Function: y = %.2f + %.2fx' %(lr.intercept_, lr.coef_[0]))\n",
    "    \n",
    "    #predict accuracy for n=60000\n",
    "    print(\"Estimated Accuracy at n = 60000 is %.4f\" %lr.predict(np.array([60000])[:, np.newaxis])[0][0])\n",
    "    \n",
    "    #plot fitted function to evaluate fit\n",
    "    x_values = np.linspace(0,30000,10000)\n",
    "    plt.plot(x_values, lr.predict(x_values[:, np.newaxis]), label = 'Model')\n",
    "    \n",
    "    #show actual data points\n",
    "    plt.scatter(ts, acc, label = 'Actual Points')\n",
    "    \n",
    "    #other labels\n",
    "    plt.xlabel(\"Training Size\")\n",
    "    plt.ylabel(\"Accuracy\")\n",
    "    plt.xlim((0, 27000))\n",
    "    plt.ylim((0.68, 1.05))\n",
    "    plt.legend(loc=\"best\")\n",
    "    plt.title(\"Accuracy vs Training Size\")\n",
    "    \n",
    "    plt.show()\n",
    "### STUDENT END ###\n",
    "P4()\n"
   ]
  },
  {
   "cell_type": "markdown",
   "metadata": {},
   "source": [
    "**ANSWER** From the output above for the linear regression model, the prediction of accuracy for n=60000 points is 124%, which is clearly incorrect and also impossible, since accuracy cannot exceed 100%.  In the plot I rendered of the linear model and the data points, we can see clearly that the linear model is not a good fit for the data.  \n",
    "\n",
    "The actual data points appear to follow a logarithic function, of the form:\n",
    "Accuracy = log(Training Size) + const.\n",
    "\n",
    "Therefore, if we apply a log transformation to Training Size, we should see a near linear relationship between Accuracy and log(Training Size)."
   ]
  },
  {
   "cell_type": "code",
   "execution_count": 9,
   "metadata": {},
   "outputs": [
    {
     "name": "stdout",
     "output_type": "stream",
     "text": [
      "Intercept: [0.54553691]\n",
      "Coefficient: [[0.0443709]]\n",
      "\n",
      "Estimated Function: y = 0.55 + 0.04x\n",
      "Estimated Accuracy at n = 60000 is 1.0337\n"
     ]
    },
    {
     "data": {
      "image/png": "[encoded data removed]",
      "text/plain": [
       "<matplotlib.figure.Figure at 0x1a1bbd14e0>"
      ]
     },
     "metadata": {},
     "output_type": "display_data"
    }
   ],
   "source": [
    "#re-run the code for P4() but with a transformation \n",
    "\n",
    "def P4_2():\n",
    "\n",
    "### STUDENT START ###\n",
    "\n",
    "    #retrieve the train_sizes and accuracy columns from the table in #3\n",
    "    #transform them into 2D array vectors\n",
    "    #however, this time, training size is transformed with np.log()\n",
    "    ts = np.log(results_table['Training Size'].as_matrix())[:, np.newaxis]\n",
    "    acc = results_table['Accuracy'].as_matrix()[:, np.newaxis]\n",
    "    \n",
    "    #fit linear regression model to training sizes and accuracy\n",
    "    lr = LinearRegression(fit_intercept=True)\n",
    "    lr.fit(ts, acc)\n",
    "    print(\"Intercept:\", lr.intercept_)\n",
    "    print(\"Coefficient:\", lr.coef_)\n",
    "    print('\\nEstimated Function: y = %.2f + %.2fx' %(lr.intercept_, lr.coef_[0]))\n",
    "    \n",
    "    #predict accuracy for n=60000.  \n",
    "    #Since the function is predicted from log(Training Size) transformation\n",
    "    #input is log(60000)\n",
    "    print(\"Estimated Accuracy at n = 60000 is %.4f\" %lr.predict(np.array([np.log(60000)])[:, np.newaxis])[0][0])\n",
    "    \n",
    "    #plot fitted function to evaluate fit\n",
    "    x_values = np.linspace(0,30000,10000)\n",
    "    plt.plot(x_values, lr.predict(x_values[:, np.newaxis]), label = 'Model')\n",
    "    \n",
    "    #show actual data points\n",
    "    plt.scatter(ts, acc, label = 'Actual Points')\n",
    "    \n",
    "    #other labels\n",
    "    plt.xlabel(\"log(Training Size)\")\n",
    "    plt.ylabel(\"Accuracy\")\n",
    "    plt.xlim((4, 11))\n",
    "    plt.ylim((0.68, 1.05))\n",
    "\n",
    "    plt.legend(loc=\"best\")\n",
    "    plt.title(\"Accuracy vs log(Training Size)\")\n",
    "    \n",
    "    plt.show()\n",
    "### STUDENT END ###\n",
    "P4_2()"
   ]
  },
  {
   "cell_type": "markdown",
   "metadata": {},
   "source": [
    "We see from this plot that the logarithmic transformation applied to the Training Size variable appears to have linearized the data points significantly.  the regression line is a much better fit around most of the points, but is stil quite far from the point (Training Size = 10, Accuracy = 0.702).  \n",
    "\n",
    "The prediction for the accuracy at n=60000 is 103%, which is still not correct since it exceeds 100%, but is much closer to the true value than before the transformation is applied. "
   ]
  },
  {
   "cell_type": "markdown",
   "metadata": {},
   "source": [
    "### Question 5\n",
    "**(5)** Fit a 1-NN and output a confusion matrix for the dev data. Use the confusion matrix to identify the most confused pair of digits, and display a few example mistakes.\n",
    "\n",
    "- confusion_matrix() produces a confusion matrix"
   ]
  },
  {
   "cell_type": "code",
   "execution_count": 10,
   "metadata": {},
   "outputs": [
    {
     "name": "stdout",
     "output_type": "stream",
     "text": [
      "[[101   0   1   0   0   0   1   1   2   0]\n",
      " [  0 116   1   0   0   0   0   0   1   0]\n",
      " [  1   4  84   2   2   0   2   4   6   1]\n",
      " [  0   2   0  84   0   6   0   2   3   0]\n",
      " [  0   0   1   0  78   0   0   2   0  11]\n",
      " [  2   0   0   1   1  77   5   0   2   0]\n",
      " [  1   2   1   0   1   2  94   0   1   0]\n",
      " [  0   1   1   0   0   0   0  96   0   4]\n",
      " [  1   5   4   3   1   3   0   1  72   4]\n",
      " [  0   1   0   0   3   2   0   7   0  82]]\n"
     ]
    }
   ],
   "source": [
    "### STUDENT START ###\n",
    "    \n",
    "#create 1-NN model using the entire training set\n",
    "model = KNeighborsClassifier(n_neighbors=1)\n",
    "model.fit(mini_train_data, mini_train_labels)\n",
    "    \n",
    "#find the predicted labels from the dev data\n",
    "predicted_labels_5 = model.predict(dev_data)\n",
    "    \n",
    "#apply confusion matrix to predicted labels and dev labels\n",
    "CM = confusion_matrix(dev_labels, predicted_labels_5, labels = [str(i) for i in range(10)])\n",
    "    \n",
    "print(CM)\n",
    "\n",
    "### STUDENT END ###"
   ]
  },
  {
   "cell_type": "markdown",
   "metadata": {},
   "source": [
    "**Answer**: In the confusion matrix C, the value C[i][j] represents the number of observations known to be in group i, but predicted to be in group j.  So the most confused pair would be the pair that results in the greatest sum of false negatives and false positives, or the pair (i,j), off diagonal, where C[i][j]+C[j][i] is greatest.  The following code allows me to find the most confused pair:"
   ]
  },
  {
   "cell_type": "code",
   "execution_count": 11,
   "metadata": {},
   "outputs": [
    {
     "name": "stdout",
     "output_type": "stream",
     "text": [
      "[14]\n",
      "(4, 9)\n"
     ]
    }
   ],
   "source": [
    "### STUDENT START ###\n",
    "\n",
    "#create a unique list of all off diagonal pairs of (i,j)\n",
    "pairs = [(i, j) for i in range(10) for j in range(i, 10) if i!=j]\n",
    "\n",
    "#calculate CM[i][j]+CM[j][i] for all pairs (i,j)\n",
    "confused_counts = [CM[p[0]][p[1]]+CM[p[1]][p[0]] for p in pairs]\n",
    "\n",
    "#finding the maximum value(s) of CM[i][j]+CM[j][i].  \n",
    "max_values = [i for i in confused_counts if i==max(confused_counts)]\n",
    "\n",
    "#printing the maximum value(s) to check their uniqueness\n",
    "print(max_values)\n",
    "\n",
    "#finding the pair (i,j) that corresponds to the max value\n",
    "most_confused = pairs[confused_counts.index(max(confused_counts))]\n",
    "print(most_confused)\n",
    "\n",
    "### STUDENT END ###"
   ]
  },
  {
   "cell_type": "markdown",
   "metadata": {},
   "source": [
    "From this output, we see that the most confused pair from the dev set, using the 1-NN model built from the mini train set, is the numbers 4 and 9.  There are 11 examples where a true 4 is predicted as a 9 and 3 examples where a true 9 is predicted as a 4.  These examples are displayed below:"
   ]
  },
  {
   "cell_type": "code",
   "execution_count": 12,
   "metadata": {},
   "outputs": [
    {
     "data": {
      "image/png": "[encoded data removed]",
      "text/plain": [
       "<matplotlib.figure.Figure at 0x1a1baf4be0>"
      ]
     },
     "metadata": {},
     "output_type": "display_data"
    }
   ],
   "source": [
    "### STUDENT START ###\n",
    "\n",
    "#True 4, Predicted as 9\n",
    "plt.figure(figsize=(10, 10))\n",
    "wrong9 = dev_data[(predicted_labels_5 == '9') & (dev_labels == '4')]\n",
    "\n",
    "for i in range(wrong9.shape[0]):\n",
    "    plt.subplot(1,wrong9.shape[0],i+1)\n",
    "    plt.xticks([])\n",
    "    plt.yticks([])\n",
    "    plt.imshow(wrong9[i].reshape(28,28), cmap = 'gray_r')\n",
    "    \n",
    "### STUDENT END ###"
   ]
  },
  {
   "cell_type": "code",
   "execution_count": 13,
   "metadata": {},
   "outputs": [
    {
     "data": {
      "image/png": "[encoded data removed]",
      "text/plain": [
       "<matplotlib.figure.Figure at 0x1a1bfc3c50>"
      ]
     },
     "metadata": {},
     "output_type": "display_data"
    }
   ],
   "source": [
    "### STUDENT START ###\n",
    "\n",
    "#True 9, Predicted as 4\n",
    "plt.figure(figsize=(10, 10))\n",
    "wrong4 = dev_data[(predicted_labels_5 == '4') & (dev_labels == '9')]\n",
    "\n",
    "for i in range(wrong4.shape[0]):\n",
    "    plt.subplot(1,wrong9.shape[0],i+1)\n",
    "    plt.xticks([])\n",
    "    plt.yticks([])\n",
    "    plt.imshow(wrong4[i].reshape(28,28), cmap = 'gray_r')\n",
    "    \n",
    "### STUDENT END ###"
   ]
  },
  {
   "cell_type": "markdown",
   "metadata": {},
   "source": [
    "### Question 6\n",
    "**(6)** A common image processing technique is to smooth an image by blurring. The idea is that the value of a particular pixel is estimated as the weighted combination of the original value and the values around it. Typically, the blurring is Gaussian -- that is, the weight of a pixel's influence is determined by a Gaussian function over the distance to the relevant pixel.\n",
    "\n",
    "Implement a simplified Gaussian blur by just using the 8 neighboring pixels: the smoothed value of a pixel is a weighted combination of the original value and the 8 neighboring values. Try applying your blur filter in 3 ways:\n",
    "- preprocess the training data but not the dev data\n",
    "- preprocess the dev data but not the training data\n",
    "- preprocess both training and dev data\n",
    "\n",
    "Note that there are Guassian blur filters available, for example in scipy.ndimage.filters. You're welcome to experiment with those, but you are likely to get the best results with the simplified version I described above."
   ]
  },
  {
   "cell_type": "code",
   "execution_count": 14,
   "metadata": {},
   "outputs": [
    {
     "data": {
      "text/plain": [
       "array([[0.07511361, 0.1238414 , 0.07511361],\n",
       "       [0.1238414 , 0.20417996, 0.1238414 ],\n",
       "       [0.07511361, 0.1238414 , 0.07511361]])"
      ]
     },
     "execution_count": 14,
     "metadata": {},
     "output_type": "execute_result"
    }
   ],
   "source": [
    "### STUDENT START ###\n",
    "import math\n",
    "\n",
    "#define 3x3 convolution matrix where\n",
    "#values are weights calulated from a 2D Gaussian function, sigma = 1\n",
    "convolution_matrix = np.zeros(9).reshape(3,3)\n",
    "indices1 = [(i, j) for i in range(3) for j in range(3)]\n",
    "for index in indices1:\n",
    "    \n",
    "    #for each index find x and y, distances from the center at position (1,1)\n",
    "    x = abs(index[0] - 1)\n",
    "    y = abs(index[1] - 1)\n",
    "    \n",
    "    #use x and y as inputs in the gaussian function, sigma = 1\n",
    "    g = 1/(2*math.pi)*math.exp(-(x**2+y**2)/2)\n",
    "    \n",
    "    convolution_matrix[index[0]][index[1]] = g\n",
    "\n",
    "convolution_matrix = convolution_matrix/np.sum(convolution_matrix)\n",
    "\n",
    "convolution_matrix\n",
    "### STUDENT END ###"
   ]
  },
  {
   "cell_type": "markdown",
   "metadata": {},
   "source": [
    "**ANSWER**: The convolution matrix defined is a matrix of constant values.  Every value is calculated from a Gaussian function, with sigma 1, based on the position from the center.  The convolution matrix has also been normalized so that the sum of all values is 1.  \n",
    "\n",
    "Next, the code below defines the function (P6) of applying a filter to the entire image. The filter will be applied as follows:\n",
    "\n",
    "- for each pixel in the image array, extract the 3x3 submatrix that consists of itself and 8 directly adjacent neighbors\n",
    "- multiply the submatrix by the convolution_matrix, using element by element multiplication, then take the sum of the product matrix.  This result is the new smoothed pixel value.  This creates a weighted average, where the center value is given the greatest weight and the outer values are weighted less depending on how far they are from the center. \n",
    "- PLEASE NOTE: I specifically do not calculated for any pixel in the outer border, since they are all most likely white, but also they do not have all 8 neighbors.  "
   ]
  },
  {
   "cell_type": "code",
   "execution_count": 15,
   "metadata": {
    "scrolled": false
   },
   "outputs": [],
   "source": [
    "### STUDENT START ###\n",
    "\n",
    "#using the above convolution matrix define a function that calculates \n",
    "#each new pixel value for all values in an image. \n",
    "\n",
    "def P6(img):\n",
    "    \n",
    "    #function takes a 1-D image matrix, first reshape to 2-D\n",
    "    img = img.reshape((28,28))\n",
    "    \n",
    "    #copy the image matrix. image matrix will be unchanged, \n",
    "    #copy used to contain all new calculated values\n",
    "    new_img = np.copy(img)\n",
    "    \n",
    "    #create all indices for calculation.  The outer border is not included\n",
    "    indices = [(i, j) for i in range(1,27) for j in range(1,27)]\n",
    "    \n",
    "    for index in indices:\n",
    "        \n",
    "        #define 3x3 submatrix consisting of pixel and all directly adjacent neighbors:\n",
    "        submatrix = img[index[0]-1:index[0]+2,index[1]-1:index[1]+2]\n",
    "        \n",
    "        #weighted pix value calculation\n",
    "        new_pixel = np.sum(submatrix*convolution_matrix)\n",
    "        \n",
    "        #store in new image\n",
    "        new_img[index[0]][index[1]] = new_pixel\n",
    "    \n",
    "    return new_img.flatten()\n",
    "\n",
    "### STUDENT END ###"
   ]
  },
  {
   "cell_type": "markdown",
   "metadata": {},
   "source": [
    "Before applying the Gaussian blur filter to the train and dev sets, I test the filter on an image of every digit below, where the original image is on the right and the blurred image is on the left:"
   ]
  },
  {
   "cell_type": "code",
   "execution_count": 16,
   "metadata": {},
   "outputs": [
    {
     "data": {
      "image/png": "[encoded data removed]",
      "text/plain": [
       "<matplotlib.figure.Figure at 0x1a1c0dbd68>"
      ]
     },
     "metadata": {},
     "output_type": "display_data"
    }
   ],
   "source": [
    "### STUDENT START ###\n",
    "# testing the bluring of an image every every number:\n",
    "\n",
    "plt.figure(figsize=(10, 10))\n",
    "for i in range(10):\n",
    "        #retrieve one image of every number\n",
    "        image = mini_train_data[mini_train_labels==str(i)][0]\n",
    "        plt.subplot(10,2,i*2+1)\n",
    "        plt.xticks([])\n",
    "        plt.yticks([])\n",
    "        plt.imshow(image.reshape(28,28), cmap = 'gray_r')\n",
    "        blur = P6(image)\n",
    "        plt.subplot(10,2,i*2+2)\n",
    "        plt.xticks([])\n",
    "        plt.yticks([])\n",
    "        plt.imshow(blur.reshape(28,28), cmap = 'gray_r')\n",
    "### STUDENT END ###"
   ]
  },
  {
   "cell_type": "markdown",
   "metadata": {},
   "source": [
    "Next, I apply the filter to the dev and and mini train data sets and calculate the accuracy for each of the following scenarios:\n",
    "\n",
    "1. preprocess the training data but not the dev data\n",
    "2. preprocess the dev data but not the training data\n",
    "3. preprocess both training and dev data"
   ]
  },
  {
   "cell_type": "code",
   "execution_count": 17,
   "metadata": {},
   "outputs": [
    {
     "name": "stdout",
     "output_type": "stream",
     "text": [
      "0. Accuracy for mini train data and dev data: 0.8840\n",
      "1. Accuracy for preprocessed training data but not dev data: 0.9060\n",
      "2. Accuracy for preprocessed dev data but not training data: 0.8680\n",
      "3. Accuracy for preprocessed dev data but not training data: 0.9010\n"
     ]
    }
   ],
   "source": [
    "### STUDENT START ###\n",
    "\n",
    "filtered_train = np.apply_along_axis(P6, 1, mini_train_data)\n",
    "filtered_dev = np.apply_along_axis(P6, 1, dev_data)\n",
    "\n",
    "def calc_acc(train_set, dev_set):\n",
    "    model = KNeighborsClassifier(n_neighbors=1)\n",
    "    model.fit(train_set, mini_train_labels)\n",
    "    predicted_labels = model.predict(dev_set)\n",
    "    accuracy = np.sum(predicted_labels == dev_labels)/dev_labels.size\n",
    "    return accuracy\n",
    "\n",
    "print(\"0. Accuracy for mini train data and dev data: %.4f\" \\\n",
    "      %calc_acc(mini_train_data, dev_data))\n",
    "print(\"1. Accuracy for preprocessed training data but not dev data: %.4f\" \\\n",
    "      %calc_acc(filtered_train, dev_data))\n",
    "print(\"2. Accuracy for preprocessed dev data but not training data: %.4f\" \\\n",
    "     %calc_acc(mini_train_data, filtered_dev))\n",
    "print(\"3. Accuracy for preprocessed dev data but not training data: %.4f\" \\\n",
    "     %calc_acc(filtered_train, filtered_dev))\n",
    "\n",
    "### STUDENT END ###"
   ]
  },
  {
   "cell_type": "markdown",
   "metadata": {},
   "source": [
    "From this output, we see that prepossing the training data always results in higher accuracy, but prepossing the dev data alone does not improve the accuracy but may actually cause the accuracy to decrease.  The reasoning behind this may be that blurring the training data allows for a wider range of acceptance for what images constitute as an image of each class.  In the above cells, I tested my simple gaussian blur on every single digit, and I noticed that the outlines of the digits become wider after the blurring has occurred.  This leads me to believe that by blurring the training data, this increases the model's ability to recognize a number of a certain class, because the blur the training images allows there to be more ways for a new test image, which has clearer and more confined pixels, to match a training image.  However, in the opposite scenario, if only the dev data is blurred, this could decrease the accuracy since the model is training with images that are confined to fewer pixels. Therefore, blurring the training set is ultimately the more advantageous move.  "
   ]
  },
  {
   "cell_type": "markdown",
   "metadata": {},
   "source": [
    "### Question 7"
   ]
  },
  {
   "cell_type": "markdown",
   "metadata": {},
   "source": [
    "**(7)** Fit a Naive Bayes classifier and report accuracy on the dev data. Remember that Naive Bayes estimates P(feature|label). While sklearn can handle real-valued features, let's start by mapping the pixel values to either 0 or 1. You can do this as a preprocessing step, or with the binarize argument. With binary-valued features, you can use BernoulliNB. Next try mapping the pixel values to 0, 1, or 2, representing white, grey, or black. This mapping requires MultinomialNB. Does the multi-class version improve the results? Why or why not?"
   ]
  },
  {
   "cell_type": "code",
   "execution_count": 18,
   "metadata": {},
   "outputs": [
    {
     "data": {
      "text/plain": [
       "'Accuracy: 0.8090'"
      ]
     },
     "execution_count": 18,
     "metadata": {},
     "output_type": "execute_result"
    }
   ],
   "source": [
    "### STUDENT START ###\n",
    "\n",
    "#define a function that binarizes the data.  \n",
    "#This preprocesses pixels by assigning 0 to pixels that have a 0 \n",
    "# and 1 to pixels that have a non-zero value. \n",
    "def binarize_image(img):\n",
    "    new_img = np.copy(img)\n",
    "    new_img[img > 0] = 1\n",
    "    return new_img\n",
    "\n",
    "#calculate accuracy \n",
    "def P7():\n",
    "    clf = BernoulliNB(alpha = 1)\n",
    "    binarized_train = np.apply_along_axis(binarize_image, 1, mini_train_data)\n",
    "    binarized_dev = np.apply_along_axis(binarize_image, 1, dev_data)\n",
    "    clf.fit(binarized_train, mini_train_labels)\n",
    "    return 'Accuracy: %.4f' %clf.score(binarized_dev, dev_labels)\n",
    "P7()"
   ]
  },
  {
   "cell_type": "markdown",
   "metadata": {},
   "source": [
    "For use of MultinomialNB, I used the following code block to determine the thresholds for mapping pixel values to 0, 1, 2.  First, I find the minimum and maximum pixel values for one image of every digit"
   ]
  },
  {
   "cell_type": "code",
   "execution_count": 19,
   "metadata": {},
   "outputs": [
    {
     "name": "stdout",
     "output_type": "stream",
     "text": [
      "[1.0, 1.0, 1.0, 1.0, 1.0, 1.0, 1.0, 1.0, 1.0, 1.0]\n",
      "[0.0, 0.0, 0.0, 0.0, 0.0, 0.0, 0.0, 0.0, 0.0, 0.0]\n"
     ]
    }
   ],
   "source": [
    "max_pixel_value = []\n",
    "min_pixel_value = []\n",
    "for i in range(10):\n",
    "    img = mini_train_data[mini_train_labels==str(i)][1]\n",
    "    max_pixel_value.append(max(img))\n",
    "    min_pixel_value.append(min(img))\n",
    "print(max_pixel_value)\n",
    "print(min_pixel_value)"
   ]
  },
  {
   "cell_type": "markdown",
   "metadata": {},
   "source": [
    "Given that all example images have pixel values that range from 0 to 1, the following mapping will be used prior to modeling with MultinomialNB:\n",
    "- pixel value = 0 will be mapped to 0\n",
    "- pixel value >0 and <= 0.5 will be mapped to 1\n",
    "- pixel value >0.5 will be mapped to 2.  "
   ]
  },
  {
   "cell_type": "code",
   "execution_count": 20,
   "metadata": {},
   "outputs": [
    {
     "data": {
      "text/plain": [
       "'Accuracy: 0.8040'"
      ]
     },
     "execution_count": 20,
     "metadata": {},
     "output_type": "execute_result"
    }
   ],
   "source": [
    "#define a function that maps pixel values to 0, 1, 2\n",
    "def map_image(img):\n",
    "    new_img = np.copy(img)\n",
    "    new_img[(img > 0) & (img <= 0.5)] = 1\n",
    "    new_img[img > 0.5] = 2\n",
    "    return new_img\n",
    "\n",
    "#calculate accuracy \n",
    "def P7_2():\n",
    "    clf2 = MultinomialNB(alpha = 1)\n",
    "    mapped_train = np.apply_along_axis(map_image, 1, mini_train_data)\n",
    "    mapped_dev = np.apply_along_axis(map_image, 1, dev_data)\n",
    "    clf2.fit(mapped_train, mini_train_labels)\n",
    "    return 'Accuracy: %.4f' %clf2.score(mapped_dev, dev_labels)\n",
    "P7_2()\n",
    "\n",
    "### STUDENT END ###"
   ]
  },
  {
   "cell_type": "markdown",
   "metadata": {},
   "source": [
    "**ANSWER:** It appears from this result that MultinomialNB does not increase the accuracy when compared to the fit of BernoulliNB.  The majority of the pixels that contain non-zero values have low values, so it appears that the most important attribute of a feature appears to be whether or not the pixel has a non-zero value rather than what value the pixel actually contains.  By adding an additional threshold for values in the mapping to 0, 1, and 2 for the application of the MultinomialNB model, we decrease the probability of pixels that do not meet the 0.5 value threshold, which then decreases model accuracy. "
   ]
  },
  {
   "cell_type": "markdown",
   "metadata": {},
   "source": [
    "### Question 8"
   ]
  },
  {
   "cell_type": "markdown",
   "metadata": {},
   "source": [
    "**(8)** Use GridSearchCV to perform a search over values of alpha (the Laplace smoothing parameter) in a Bernoulli NB model. What is the best value for alpha? What is the accuracy when alpha=0? Is this what you'd expect?\n",
    "\n",
    "- Note that GridSearchCV partitions the training data so the results will be a bit different than if you used the dev data for evaluation."
   ]
  },
  {
   "cell_type": "code",
   "execution_count": 21,
   "metadata": {},
   "outputs": [
    {
     "name": "stderr",
     "output_type": "stream",
     "text": [
      "/Users/diliwang/anaconda3/lib/python3.6/site-packages/sklearn/naive_bayes.py:480: UserWarning: alpha too small will result in numeric errors, setting alpha = 1.0e-10\n",
      "  'setting alpha = %.1e' % _ALPHA_MIN)\n",
      "/Users/diliwang/anaconda3/lib/python3.6/site-packages/sklearn/naive_bayes.py:480: UserWarning: alpha too small will result in numeric errors, setting alpha = 1.0e-10\n",
      "  'setting alpha = %.1e' % _ALPHA_MIN)\n",
      "/Users/diliwang/anaconda3/lib/python3.6/site-packages/sklearn/naive_bayes.py:480: UserWarning: alpha too small will result in numeric errors, setting alpha = 1.0e-10\n",
      "  'setting alpha = %.1e' % _ALPHA_MIN)\n",
      "/Users/diliwang/anaconda3/lib/python3.6/site-packages/sklearn/naive_bayes.py:480: UserWarning: alpha too small will result in numeric errors, setting alpha = 1.0e-10\n",
      "  'setting alpha = %.1e' % _ALPHA_MIN)\n",
      "/Users/diliwang/anaconda3/lib/python3.6/site-packages/sklearn/naive_bayes.py:480: UserWarning: alpha too small will result in numeric errors, setting alpha = 1.0e-10\n",
      "  'setting alpha = %.1e' % _ALPHA_MIN)\n"
     ]
    }
   ],
   "source": [
    "def P8(alphas):\n",
    "\n",
    "### STUDENT START ###\n",
    "    \n",
    "    # create a pipeline with the BernoulliNB to use in GridSearchCV\n",
    "    bnb = Pipeline([('classifier', BernoulliNB())])\n",
    "    \n",
    "    # binarize mini train data using binarize_image() from (7)\n",
    "    binarized_train = np.apply_along_axis(binarize_image, 1, mini_train_data)\n",
    "    \n",
    "    # apply GridSearchCV to the BernoulliNB model built from binarized training data\n",
    "    # parameters are included based on warning messages\n",
    "    gs = GridSearchCV(bnb, param_grid = alphas, iid = True, refit = True, cv=5, return_train_score=True)\n",
    "    gs.fit(binarized_train, mini_train_labels)\n",
    "\n",
    "    return gs\n",
    "\n",
    "\n",
    "### STUDENT END ###\n",
    "\n",
    "#dictionary key for alphas updated to 'classifier__alpha' based on documentation\n",
    "alphas = {'classifier__alpha': [0.0, 0.0001, 0.001, 0.01, 0.1, 0.5, 1.0, 2.0, 10.0]}\n",
    "\n",
    "nb = P8(alphas)\n"
   ]
  },
  {
   "cell_type": "code",
   "execution_count": 22,
   "metadata": {},
   "outputs": [
    {
     "name": "stdout",
     "output_type": "stream",
     "text": [
      "{'classifier__alpha': 0.001}\n"
     ]
    }
   ],
   "source": [
    "#best alpha\n",
    "print (nb.best_params_)"
   ]
  },
  {
   "cell_type": "code",
   "execution_count": 23,
   "metadata": {},
   "outputs": [
    {
     "name": "stdout",
     "output_type": "stream",
     "text": [
      "[0.0 0.0001 0.001 0.01 0.1 0.5 1.0 2.0 10.0]\n",
      "[0.88600804 0.87775536 0.87475531 0.86975618 0.86500267 0.85725565\n",
      " 0.85175678 0.84699699 0.81624635]\n",
      "[0.813 0.821 0.825 0.82  0.818 0.816 0.811 0.805 0.781]\n"
     ]
    }
   ],
   "source": [
    "# look at cross-validation results\n",
    "print(nb.cv_results_['param_classifier__alpha'])\n",
    "print(nb.cv_results_['mean_train_score'])\n",
    "print(nb.cv_results_['mean_test_score'])"
   ]
  },
  {
   "cell_type": "code",
   "execution_count": 24,
   "metadata": {},
   "outputs": [
    {
     "name": "stdout",
     "output_type": "stream",
     "text": [
      "Mean Train Score for alpha = 0: 0.886\n",
      "Mean Test Score for alpha = 0: 0.813\n"
     ]
    }
   ],
   "source": [
    "#results for alpha = 0\n",
    "print(\"Mean Train Score for alpha = 0: {:.3f}\".format(nb.cv_results_['mean_train_score'][0]))\n",
    "print(\"Mean Test Score for alpha = 0: {:.3f}\".format(nb.cv_results_['mean_test_score'][0]))"
   ]
  },
  {
   "cell_type": "markdown",
   "metadata": {},
   "source": [
    "**ANSWER:** The best value for alpha is 0.001. For alpha = 0, the training accuracy is 0.886 and the test accuracy is 0.813.  Since the best value for alpha is closer to 0 than to 1, we expect that the accuracy is a lot better for alpha = 0 than for alpha = 1. That appears to be the case, when we compare the accuracy for alpha = 0 here against the accuracy for alpha = 1 calculated in (7).  Given that the data is binarized with a threshold of 0, the probability of whether or not a pixel has value is the dominant feature in the BernoulliNB model, so we expect that likelihood of a feature is dominated by the probability of the feature rather than the conditional probability of the feature on the set of features.  For this reason, we expect little or no smoothing would give more accurate results, so best alpha should be close to 0. "
   ]
  },
  {
   "cell_type": "markdown",
   "metadata": {},
   "source": [
    "### Question 9"
   ]
  },
  {
   "cell_type": "markdown",
   "metadata": {},
   "source": [
    "**(9)** Try training a model using GuassianNB, which is intended for real-valued features, and evaluate on the dev data. You'll notice that it doesn't work so well. Try to diagnose the problem. You should be able to find a simple fix that returns the accuracy to around the same rate as BernoulliNB. Explain your solution.\n",
    "\n",
    "Hint: examine the parameters estimated by the fit() method, theta\\_ and sigma\\_."
   ]
  },
  {
   "cell_type": "code",
   "execution_count": 25,
   "metadata": {},
   "outputs": [
    {
     "name": "stdout",
     "output_type": "stream",
     "text": [
      "GaussianNB Accuracy: 0.5930\n"
     ]
    },
    {
     "data": {
      "image/png": "[encoded data removed]",
      "text/plain": [
       "<matplotlib.figure.Figure at 0x1a16ca6c18>"
      ]
     },
     "metadata": {},
     "output_type": "display_data"
    }
   ],
   "source": [
    "def P9():\n",
    "\n",
    "### STUDENT START ###\n",
    "\n",
    "    #fit mini_train_data using GaussianNB and calculate accuracy on dev_data\n",
    "    gnb = GaussianNB()\n",
    "    gnb.fit(mini_train_data, mini_train_labels)\n",
    "    predicted_labels = gnb.predict(dev_data)\n",
    "    print('GaussianNB Accuracy: %.4f' %np.mean(predicted_labels == dev_labels))\n",
    "    \n",
    "    #examining the parameters\n",
    "    plt.subplot(1,2,1)\n",
    "    plt.hist(gnb.theta_[7])\n",
    "    plt.subplot(1,2,2)\n",
    "    plt.hist(gnb.sigma_[7])\n",
    "    \n",
    "\n",
    "P9()"
   ]
  },
  {
   "cell_type": "markdown",
   "metadata": {},
   "source": [
    "**ANSWER:** From the output above, we see that the accuracy for the GaussianNB model is extremely low.  I also plotted histograms of theta_, the mean of each feature per class, and sigma_, the variance of each figure per class, for one class.  I also varied the class argument to examine the histograms of these parameters across all the classes. \n",
    "\n",
    "Below, I applied a quick fix to increase the accuracy of the GaussianNB model so that it is comparable to BernoulliNB.  I varied the var_smoothing parameter with various numbers to maximize the accuracy."
   ]
  },
  {
   "cell_type": "code",
   "execution_count": 26,
   "metadata": {},
   "outputs": [
    {
     "name": "stdout",
     "output_type": "stream",
     "text": [
      "GaussianNB Accuracy: 0.8210\n"
     ]
    },
    {
     "data": {
      "image/png": "[encoded data removed]",
      "text/plain": [
       "<matplotlib.figure.Figure at 0x1a16cbc978>"
      ]
     },
     "metadata": {},
     "output_type": "display_data"
    }
   ],
   "source": [
    "#Applying a fix to increase accuracy\n",
    "\n",
    "def P9_2():\n",
    "    \n",
    "    #fit mini_train_data using GaussianNB and calculate accuracy on dev_data\n",
    "    gnb2 = GaussianNB(var_smoothing=0.06)\n",
    "    gnb2.fit(mini_train_data, mini_train_labels)\n",
    "    predicted_labels = gnb2.predict(dev_data)\n",
    "    print('GaussianNB Accuracy: %.4f' %np.mean(predicted_labels == dev_labels))\n",
    "    \n",
    "    #examining the parameters\n",
    "    plt.subplot(1,2,1)\n",
    "    plt.hist(gnb2.theta_[7])\n",
    "    plt.subplot(1,2,2)\n",
    "    plt.hist(gnb2.sigma_[7])\n",
    "    \n",
    "\n",
    "P9_2()\n",
    "\n",
    "### STUDENT END ###"
   ]
  },
  {
   "cell_type": "markdown",
   "metadata": {},
   "source": [
    "According to the documentation on GaussianNB, it appears that the var_smoothing parameter increases the variance of all features per class.  Without smoothing, the pixels with low values that are far from the mean pixel value have very low probability. However, we know from questionn 8 that BernoulliNB accuracy depends on whether or not a pixel has a non-zero value rather than the value contained by the pixel.  The var_smoothing parameter increases the variance so that the probability of low value pixels increase, which in turn increases the probability that dev images with non-zero values in the same pixels are recognized as belonging to the same class.  This then increases the accuracy of the GaussianNB model. "
   ]
  },
  {
   "cell_type": "markdown",
   "metadata": {},
   "source": [
    "### Question 10"
   ]
  },
  {
   "cell_type": "markdown",
   "metadata": {},
   "source": [
    "**(10)** Because Naive Bayes is a generative model, we can use the trained model to generate digits. Train a BernoulliNB model and then generate a 10x20 grid with 20 examples of each digit. Because you're using a Bernoulli model, each pixel output will be either 0 or 1. How do the generated digits compare to the training digits?\n",
    "\n",
    "- You can use np.random.rand() to generate random numbers from a uniform distribution\n",
    "- The estimated probability of each pixel is stored in feature\\_log\\_prob\\_. You'll need to use np.exp() to convert a log probability back to a probability."
   ]
  },
  {
   "cell_type": "code",
   "execution_count": 27,
   "metadata": {},
   "outputs": [
    {
     "data": {
      "image/png": "[encoded data removed]",
      "text/plain": [
       "<matplotlib.figure.Figure at 0x1a261511d0>"
      ]
     },
     "metadata": {},
     "output_type": "display_data"
    }
   ],
   "source": [
    "def P10(num_examples):\n",
    "\n",
    "### STUDENT START ###\n",
    "\n",
    "    plt.figure(figsize=(15, 10))\n",
    "\n",
    "    #fit BernoulliNB model using the mini train data\n",
    "    bnb = BernoulliNB(alpha = 0.001)\n",
    "    \n",
    "    #call the binarize_image function from (7) to process train_data\n",
    "    binarized_train = np.apply_along_axis(binarize_image, 1, mini_train_data)\n",
    "    bnb.fit(binarized_train, mini_train_labels)\n",
    "    \n",
    "    #for each feature, extract the probability per pixel matrix\n",
    "    for i in range(10):\n",
    "        feature_prob = np.exp(bnb.feature_log_prob_)[i]\n",
    "        \n",
    "        #create num_example images for each class\n",
    "        for j in range(num_examples):\n",
    "            #image is initially created with 0 value in every pixel\n",
    "            img=np.zeros(784)\n",
    "            \n",
    "            #np.random.rand() generates probability from [0,1] uniform distribution per pixel\n",
    "            #if probability is less than that from the the feature probability matrix, pixel turne on with value 1\n",
    "            #else pixel is turned off\n",
    "            img[np.random.rand()<=feature_prob] = 1\n",
    "            \n",
    "            #plot in 10 by 20 grid\n",
    "            plt.subplot(10,20,i*num_examples+j+1)\n",
    "            plt.xticks([])\n",
    "            plt.yticks([])\n",
    "            plt.imshow(img.reshape(28,28), cmap = 'gray_r')\n",
    "            \n",
    "\n",
    "### STUDENT START ###\n",
    "\n",
    "P10(20)"
   ]
  },
  {
   "cell_type": "markdown",
   "metadata": {},
   "source": [
    "### Question 11"
   ]
  },
  {
   "cell_type": "markdown",
   "metadata": {},
   "source": [
    "**(11)** Remember that a strongly calibrated classifier is rougly 90% accurate when the posterior probability of the predicted class is 0.9. A weakly calibrated classifier is more accurate when the posterior is 90% than when it is 80%. A poorly calibrated classifier has no positive correlation between posterior and accuracy.\n",
    "\n",
    "Train a BernoulliNB model with a reasonable alpha value. For each posterior bucket (think of a bin in a histogram), you want to estimate the classifier's accuracy. So for each prediction, find the bucket the maximum posterior belongs to and update the \"correct\" and \"total\" counters.\n",
    "\n",
    "How would you characterize the calibration for the Naive Bayes model?"
   ]
  },
  {
   "cell_type": "code",
   "execution_count": 28,
   "metadata": {},
   "outputs": [
    {
     "name": "stdout",
     "output_type": "stream",
     "text": [
      "[0.5, 0.9, 0.999, 0.99999, 0.9999999, 0.999999999, 0.99999999999, 0.9999999999999, 1.0] <-Buckets\n",
      "[0, 31, 67, 59, 46, 62, 33, 43, 659] <- Counts per Bucket\n",
      "[0, 11, 29, 27, 30, 48, 26, 34, 618] <-Correct Counts\n",
      "p(pred) <= 0.5000000000000    total =   0    accuracy = 0.000\n",
      "p(pred) <= 0.9000000000000    total =  31    accuracy = 0.355\n",
      "p(pred) <= 0.9990000000000    total =  67    accuracy = 0.433\n",
      "p(pred) <= 0.9999900000000    total =  59    accuracy = 0.458\n",
      "p(pred) <= 0.9999999000000    total =  46    accuracy = 0.652\n",
      "p(pred) <= 0.9999999990000    total =  62    accuracy = 0.774\n",
      "p(pred) <= 0.9999999999900    total =  33    accuracy = 0.788\n",
      "p(pred) <= 0.9999999999999    total =  43    accuracy = 0.791\n",
      "p(pred) <= 1.0000000000000    total = 659    accuracy = 0.938\n"
     ]
    }
   ],
   "source": [
    "### STUDENT START ###\n",
    "\n",
    "#call the binarize_image function from (7) to process mini_train_data and dev_data\n",
    "binarized_train = np.apply_along_axis(binarize_image, 1, mini_train_data)\n",
    "binarized_dev = np.apply_along_axis(binarize_image, 1, dev_data)\n",
    "\n",
    "#Start with generating a BernoulliNB model using binarized mini_train_data\n",
    "#using best alpha value from (8)\n",
    "bnb = BernoulliNB(alpha = 0.001)\n",
    "bnb.fit(binarized_train, mini_train_labels)\n",
    "\n",
    "#define a function to calculate posterior probability for every image in dev_data:\n",
    "\n",
    "def calculate_posteriors(img):\n",
    "    #objective of this function is to return a list of normalized posterior probabilities\n",
    "    #the list should have 10 values, one for each digit\n",
    "    #posterior probabilities are calculated as the prior probability x likelihood\n",
    "    \n",
    "    #extract prior probabilities\n",
    "    priors = np.exp(bnb.class_log_prior_)\n",
    "    \n",
    "    #extract probability of every pixel\n",
    "    features_prob = np.exp(bnb.feature_log_prob_)\n",
    "    \n",
    "    #define inverse image for likelihood calculation.   \n",
    "    #this is the total product per pixel of \n",
    "    #(probability of every pixel that has value = 1) x (1-probability of every pixel that has value = 0)\n",
    "    #roughly, the logic is prod(img*features_prob+inverse_img*(1-features_prob))\n",
    "    inverse_img = np.zeros(784)\n",
    "    inverse_img[img == 0] = 1\n",
    "    \n",
    "    #for every digit, calculate likelihood x prior --> posterior\n",
    "    posteriors = np.zeros(10)\n",
    "    for i in range(0, 10):\n",
    "        likelihood = np.prod(features_prob[i] * img + (np.ones(784) - features_prob[i]) * inverse_img)\n",
    "        posteriors[i] = likelihood*priors[i]\n",
    "    \n",
    "    posteriors /= posteriors.sum()\n",
    "    \n",
    "    return posteriors\n",
    "    \n",
    "def P11(buckets, correct, total):\n",
    "\n",
    "    #calculate the list of 10 posterior probabilities for each image in dev set\n",
    "    dev_posteriors = np.apply_along_axis(calculate_posteriors, 1, binarized_dev)\n",
    "    \n",
    "    #for each dev image\n",
    "    for i in range(len(dev_posteriors)):\n",
    "        #extract the argmax from each list of posteriors.  \n",
    "        #argmax represents the class with highest posterior probability\n",
    "        argmax = np.argmax(dev_posteriors[i])\n",
    "        #also extract the maximum posterior probability\n",
    "        max_posterior = np.max(dev_posteriors[i])\n",
    "        \n",
    "        #correct prediction is a variable used to store a 0 or 1\n",
    "        correct_prediction = 0\n",
    "        \n",
    "        #check if argmax, the predicted class, matches the dev image label\n",
    "        #if match, then correct_prediction = 1, else 0.  \n",
    "        \n",
    "        if str(argmax) == dev_labels[i]:\n",
    "            correct_prediction = 1\n",
    "        else:\n",
    "            correct_prediction = 0\n",
    "        \n",
    "        #add the max posterior prob to the correct bucket\n",
    "        for j in range(len(buckets)):\n",
    "            if max_posterior <= buckets[j]:\n",
    "                total[j] +=1\n",
    "                #The correct_prediction value is added to the correct count \n",
    "                #that with index corresponding to the bucket\n",
    "                correct[j] += correct_prediction\n",
    "                break\n",
    "                \n",
    "    print(buckets, \"<-Buckets\")\n",
    "    print(total, \"<- Counts per Bucket\")\n",
    "    print(correct, \"<-Correct Counts\")\n",
    "\n",
    "### STUDENT END ###\n",
    "\n",
    "buckets = [0.5, 0.9, 0.999, 0.99999, 0.9999999, 0.999999999, 0.99999999999, 0.9999999999999, 1.0]\n",
    "correct = [0 for i in buckets]\n",
    "total = [0 for i in buckets]\n",
    "\n",
    "P11(buckets, correct, total)\n",
    "\n",
    "for i in range(len(buckets)):\n",
    "    accuracy = 0.0\n",
    "    if (total[i] > 0): accuracy = correct[i] / total[i]\n",
    "    print('p(pred) <= %.13f    total = %3d    accuracy = %.3f' %(buckets[i], total[i], accuracy))\n",
    "    \n",
    "    "
   ]
  },
  {
   "cell_type": "markdown",
   "metadata": {},
   "source": [
    "**Answer:** Based on this output,the model only has a 35.5% accuracy fo posterior probability of 90%, so this is defintely not considered a strongly calibrated classifier. The accuracy does increase as the posterior probability increases, so this appears to be at least a weakly calibrated classifier, since there is some postive correlation between posterior and accuracy. "
   ]
  },
  {
   "cell_type": "code",
   "execution_count": null,
   "metadata": {},
   "outputs": [],
   "source": []
  }
 ],
 "metadata": {
  "kernelspec": {
   "display_name": "Python 3",
   "language": "python",
   "name": "python3"
  },
  "language_info": {
   "codemirror_mode": {
    "name": "ipython",
    "version": 3
   },
   "file_extension": ".py",
   "mimetype": "text/x-python",
   "name": "python",
   "nbconvert_exporter": "python",
   "pygments_lexer": "ipython3",
   "version": "3.7.1"
  }
 },
 "nbformat": 4,
 "nbformat_minor": 2
}
